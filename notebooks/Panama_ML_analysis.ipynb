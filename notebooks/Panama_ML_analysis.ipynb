{
 "cells": [
  {
   "cell_type": "code",
   "execution_count": 23,
   "id": "a9a912ee-bcc7-44ae-9b06-f4aa00e3cbd6",
   "metadata": {},
   "outputs": [],
   "source": [
    "import pandas as pd\n",
    "import seaborn as sns\n",
    "import matplotlib.pyplot as plt\n",
    "import numpy as np\n",
    "import glob\n",
    "from scipy.interpolate import UnivariateSpline\n",
    "from IPython.display import display, clear_output\n",
    "from Bio import SeqIO\n",
    "import gzip\n",
    "from collections import Counter\n",
    "from sklearn.ensemble import RandomForestRegressor\n",
    "from xgboost import XGBRegressor\n",
    "# from sklearn.datasets import make_regression\n",
    "from scipy.stats import spearmanr\n",
    "import itertools\n",
    "from random import sample"
   ]
  },
  {
   "cell_type": "code",
   "execution_count": 2,
   "id": "313c250c-eb70-4de4-a82c-02b1fda53da7",
   "metadata": {},
   "outputs": [],
   "source": [
    "# define a base path\n",
    "# change to /data/mhoffert on microbe\n",
    "# change to /home/michaelhoffert on gcloud\n",
    "server_loc = '/data/mhoffert/'\n",
    "base_path = f'{server_loc}lab-data/datasets/Oliverio_2020a'"
   ]
  },
  {
   "cell_type": "code",
   "execution_count": 3,
   "id": "016ac43f-3686-4f96-ae4f-c6897ad8c062",
   "metadata": {},
   "outputs": [],
   "source": [
    "# read otu table\n",
    "otus = pd.read_csv(f'{base_path}/processed/03_tabletax/seqtab_final.txt', sep='\\t', index_col=0)\n",
    "# grab taxonomy in case we need it\n",
    "taxonomy = otus['taxonomy']\n",
    "otus = otus.drop('taxonomy', 1)"
   ]
  },
  {
   "cell_type": "code",
   "execution_count": 4,
   "id": "31e0a6e6-8070-4489-968a-7bd0cb9eb304",
   "metadata": {},
   "outputs": [],
   "source": [
    "# normalize to column sum for relative abundance\n",
    "otus_norm = otus.divide(otus.sum())"
   ]
  },
  {
   "cell_type": "code",
   "execution_count": 5,
   "id": "14a147ab-caea-45f6-ba9a-e98fc8c780b4",
   "metadata": {},
   "outputs": [],
   "source": [
    "# read metadata\n",
    "md = pd.read_csv(f'{base_path}/metadata/Panama_metadata_full_v1.txt', encoding='latin1', sep='\\t')"
   ]
  },
  {
   "cell_type": "code",
   "execution_count": 6,
   "id": "98c56c23-7c0a-4241-8035-e6c23c1e71c7",
   "metadata": {},
   "outputs": [
    {
     "data": {
      "text/html": [
       "<div>\n",
       "<style scoped>\n",
       "    .dataframe tbody tr th:only-of-type {\n",
       "        vertical-align: middle;\n",
       "    }\n",
       "\n",
       "    .dataframe tbody tr th {\n",
       "        vertical-align: top;\n",
       "    }\n",
       "\n",
       "    .dataframe thead th {\n",
       "        text-align: right;\n",
       "    }\n",
       "</style>\n",
       "<table border=\"1\" class=\"dataframe\">\n",
       "  <thead>\n",
       "    <tr style=\"text-align: right;\">\n",
       "      <th></th>\n",
       "      <th>Alb_0202</th>\n",
       "      <th>Alb_0204</th>\n",
       "      <th>Alb_0303</th>\n",
       "      <th>Alb_0402</th>\n",
       "      <th>Alb_0404</th>\n",
       "      <th>B1_0202</th>\n",
       "      <th>B1_0204</th>\n",
       "      <th>B1_0303</th>\n",
       "      <th>B1_0402</th>\n",
       "      <th>B1_0404</th>\n",
       "      <th>...</th>\n",
       "      <th>She4_0404</th>\n",
       "      <th>SheG_0202</th>\n",
       "      <th>SheG_0204</th>\n",
       "      <th>SheG_0303</th>\n",
       "      <th>SheG_0402</th>\n",
       "      <th>Sob_0202</th>\n",
       "      <th>Sob_0204</th>\n",
       "      <th>Sob_0303</th>\n",
       "      <th>Sob_0402</th>\n",
       "      <th>Sob_0404</th>\n",
       "    </tr>\n",
       "    <tr>\n",
       "      <th>#ASV ID</th>\n",
       "      <th></th>\n",
       "      <th></th>\n",
       "      <th></th>\n",
       "      <th></th>\n",
       "      <th></th>\n",
       "      <th></th>\n",
       "      <th></th>\n",
       "      <th></th>\n",
       "      <th></th>\n",
       "      <th></th>\n",
       "      <th></th>\n",
       "      <th></th>\n",
       "      <th></th>\n",
       "      <th></th>\n",
       "      <th></th>\n",
       "      <th></th>\n",
       "      <th></th>\n",
       "      <th></th>\n",
       "      <th></th>\n",
       "      <th></th>\n",
       "      <th></th>\n",
       "    </tr>\n",
       "  </thead>\n",
       "  <tbody>\n",
       "    <tr>\n",
       "      <th>ASV_1</th>\n",
       "      <td>0.0</td>\n",
       "      <td>0.0</td>\n",
       "      <td>0.0</td>\n",
       "      <td>0.0</td>\n",
       "      <td>0.0</td>\n",
       "      <td>0.000000</td>\n",
       "      <td>0.00000</td>\n",
       "      <td>0.015689</td>\n",
       "      <td>0.001211</td>\n",
       "      <td>0.000000</td>\n",
       "      <td>...</td>\n",
       "      <td>0.048939</td>\n",
       "      <td>0.056733</td>\n",
       "      <td>0.000000</td>\n",
       "      <td>0.130409</td>\n",
       "      <td>0.000000</td>\n",
       "      <td>0.000000</td>\n",
       "      <td>0.0</td>\n",
       "      <td>0.0</td>\n",
       "      <td>0.0</td>\n",
       "      <td>0.000000</td>\n",
       "    </tr>\n",
       "    <tr>\n",
       "      <th>ASV_10</th>\n",
       "      <td>0.0</td>\n",
       "      <td>0.0</td>\n",
       "      <td>0.0</td>\n",
       "      <td>0.0</td>\n",
       "      <td>0.0</td>\n",
       "      <td>0.027609</td>\n",
       "      <td>0.00000</td>\n",
       "      <td>0.003954</td>\n",
       "      <td>0.014873</td>\n",
       "      <td>0.000000</td>\n",
       "      <td>...</td>\n",
       "      <td>0.004197</td>\n",
       "      <td>0.022213</td>\n",
       "      <td>0.010171</td>\n",
       "      <td>0.010712</td>\n",
       "      <td>0.010122</td>\n",
       "      <td>0.003016</td>\n",
       "      <td>0.0</td>\n",
       "      <td>0.0</td>\n",
       "      <td>0.0</td>\n",
       "      <td>0.003529</td>\n",
       "    </tr>\n",
       "    <tr>\n",
       "      <th>ASV_100</th>\n",
       "      <td>0.0</td>\n",
       "      <td>0.0</td>\n",
       "      <td>0.0</td>\n",
       "      <td>0.0</td>\n",
       "      <td>0.0</td>\n",
       "      <td>0.000000</td>\n",
       "      <td>0.00308</td>\n",
       "      <td>0.001623</td>\n",
       "      <td>0.000000</td>\n",
       "      <td>0.004049</td>\n",
       "      <td>...</td>\n",
       "      <td>0.000000</td>\n",
       "      <td>0.000000</td>\n",
       "      <td>0.000000</td>\n",
       "      <td>0.000000</td>\n",
       "      <td>0.000000</td>\n",
       "      <td>0.000000</td>\n",
       "      <td>0.0</td>\n",
       "      <td>0.0</td>\n",
       "      <td>0.0</td>\n",
       "      <td>0.000000</td>\n",
       "    </tr>\n",
       "    <tr>\n",
       "      <th>ASV_1000</th>\n",
       "      <td>0.0</td>\n",
       "      <td>0.0</td>\n",
       "      <td>0.0</td>\n",
       "      <td>0.0</td>\n",
       "      <td>0.0</td>\n",
       "      <td>0.000000</td>\n",
       "      <td>0.00000</td>\n",
       "      <td>0.000000</td>\n",
       "      <td>0.000000</td>\n",
       "      <td>0.000000</td>\n",
       "      <td>...</td>\n",
       "      <td>0.000000</td>\n",
       "      <td>0.000000</td>\n",
       "      <td>0.000000</td>\n",
       "      <td>0.000000</td>\n",
       "      <td>0.000000</td>\n",
       "      <td>0.000000</td>\n",
       "      <td>0.0</td>\n",
       "      <td>0.0</td>\n",
       "      <td>0.0</td>\n",
       "      <td>0.000000</td>\n",
       "    </tr>\n",
       "    <tr>\n",
       "      <th>ASV_10000</th>\n",
       "      <td>0.0</td>\n",
       "      <td>0.0</td>\n",
       "      <td>0.0</td>\n",
       "      <td>0.0</td>\n",
       "      <td>0.0</td>\n",
       "      <td>0.000000</td>\n",
       "      <td>0.00000</td>\n",
       "      <td>0.000000</td>\n",
       "      <td>0.000000</td>\n",
       "      <td>0.000000</td>\n",
       "      <td>...</td>\n",
       "      <td>0.000000</td>\n",
       "      <td>0.000000</td>\n",
       "      <td>0.000000</td>\n",
       "      <td>0.000000</td>\n",
       "      <td>0.000000</td>\n",
       "      <td>0.000000</td>\n",
       "      <td>0.0</td>\n",
       "      <td>0.0</td>\n",
       "      <td>0.0</td>\n",
       "      <td>0.000000</td>\n",
       "    </tr>\n",
       "  </tbody>\n",
       "</table>\n",
       "<p>5 rows × 308 columns</p>\n",
       "</div>"
      ],
      "text/plain": [
       "           Alb_0202  Alb_0204  Alb_0303  Alb_0402  Alb_0404   B1_0202  \\\n",
       "#ASV ID                                                                 \n",
       "ASV_1           0.0       0.0       0.0       0.0       0.0  0.000000   \n",
       "ASV_10          0.0       0.0       0.0       0.0       0.0  0.027609   \n",
       "ASV_100         0.0       0.0       0.0       0.0       0.0  0.000000   \n",
       "ASV_1000        0.0       0.0       0.0       0.0       0.0  0.000000   \n",
       "ASV_10000       0.0       0.0       0.0       0.0       0.0  0.000000   \n",
       "\n",
       "           B1_0204   B1_0303   B1_0402   B1_0404  ...  She4_0404  SheG_0202  \\\n",
       "#ASV ID                                           ...                         \n",
       "ASV_1      0.00000  0.015689  0.001211  0.000000  ...   0.048939   0.056733   \n",
       "ASV_10     0.00000  0.003954  0.014873  0.000000  ...   0.004197   0.022213   \n",
       "ASV_100    0.00308  0.001623  0.000000  0.004049  ...   0.000000   0.000000   \n",
       "ASV_1000   0.00000  0.000000  0.000000  0.000000  ...   0.000000   0.000000   \n",
       "ASV_10000  0.00000  0.000000  0.000000  0.000000  ...   0.000000   0.000000   \n",
       "\n",
       "           SheG_0204  SheG_0303  SheG_0402  Sob_0202  Sob_0204  Sob_0303  \\\n",
       "#ASV ID                                                                    \n",
       "ASV_1       0.000000   0.130409   0.000000  0.000000       0.0       0.0   \n",
       "ASV_10      0.010171   0.010712   0.010122  0.003016       0.0       0.0   \n",
       "ASV_100     0.000000   0.000000   0.000000  0.000000       0.0       0.0   \n",
       "ASV_1000    0.000000   0.000000   0.000000  0.000000       0.0       0.0   \n",
       "ASV_10000   0.000000   0.000000   0.000000  0.000000       0.0       0.0   \n",
       "\n",
       "           Sob_0402  Sob_0404  \n",
       "#ASV ID                        \n",
       "ASV_1           0.0  0.000000  \n",
       "ASV_10          0.0  0.003529  \n",
       "ASV_100         0.0  0.000000  \n",
       "ASV_1000        0.0  0.000000  \n",
       "ASV_10000       0.0  0.000000  \n",
       "\n",
       "[5 rows x 308 columns]"
      ]
     },
     "execution_count": 6,
     "metadata": {},
     "output_type": "execute_result"
    }
   ],
   "source": [
    "otus_norm.head()"
   ]
  },
  {
   "cell_type": "code",
   "execution_count": 7,
   "id": "82c38ab0-1abb-452f-91eb-26b0a6d32504",
   "metadata": {},
   "outputs": [
    {
     "data": {
      "text/plain": [
       "18379"
      ]
     },
     "metadata": {},
     "output_type": "display_data"
    }
   ],
   "source": [
    "# define a series to store optimum for each ASV\n",
    "pH_optima = pd.Series()\n",
    "# sort by abundance because it's more convenient\n",
    "abun_order = otus_norm.mean(1).sort_values(ascending=False).index\n",
    "i, j = 0, 0\n",
    "# iterate over each row: get vector of samples abundances for ASV\n",
    "for index, otu_data in otus_norm.reindex(abun_order).iterrows():\n",
    "# for index, otu_data in otus_norm.reindex(abun_order).head().iterrows():\n",
    "    display(i)\n",
    "    clear_output(wait=True)\n",
    "    # merge with metadata\n",
    "    merged = pd.merge(otu_data, md.set_index('#sampleID'), left_index=True, right_index=True)\n",
    "    # sort by pH\n",
    "    merged_sorted = merged.sort_values('pH.water')\n",
    "    xvals = merged_sorted['pH.water']\n",
    "    \n",
    "    # get running means\n",
    "    N = 50\n",
    "    running_means = np.convolve(merged_sorted[index], np.ones(N)/N, mode='same')\n",
    "    \n",
    "    # fit a spline\n",
    "    #spline = UnivariateSpline(merged_sorted['pH.water'], merged_sorted[index])\n",
    "    # grab spline predictions\n",
    "    #splinevals = spline(merged_sorted['pH.water'], )\n",
    "    \n",
    "    # get the max value\n",
    "    #optimum=xvals[np.argmax(splinevals)]\n",
    "    equal_to_optimum = xvals[running_means == running_means[np.argmax(running_means)]]\n",
    "    # print(equal_to_optimum.shape)\n",
    "    optimum=equal_to_optimum.sample().iloc[0]\n",
    "    # save it\n",
    "    pH_optima.loc[index] = optimum\n",
    "    \n",
    "    # optional plotting code\n",
    "    # sns.scatterplot(data=merged, y=index, x='pH.water')\n",
    "    # plt.plot(xvals, splinevals, color='red')\n",
    "    # plt.vlines([optimum], np.min(merged[index]), np.max(merged[index]))\n",
    "    # plt.show()\n",
    "    \n",
    "    i += 1"
   ]
  },
  {
   "cell_type": "markdown",
   "id": "db4e2079-2651-4632-9228-f93ddb1e6b6c",
   "metadata": {},
   "source": [
    "#### Notes\n",
    "I switched from doing the optimum pH estimate with a spline to taking the running mean and finding the maximum of that. In most cases, the behavior near the pH = 3 or pH = 8 ends of the spectrum was less weird. In some cases, there's like 1 observation at pH = 3.1, so the first 20ish observations all have the same average relative abundance in a sliding window. I just took a random pH from this group if this was the case, and the shape of the pH distribution looks a lot better."
   ]
  },
  {
   "cell_type": "code",
   "execution_count": 8,
   "id": "1f5db6ec-2929-480c-8615-75f63c23e200",
   "metadata": {},
   "outputs": [
    {
     "data": {
      "text/plain": [
       "<AxesSubplot:ylabel='Count'>"
      ]
     },
     "execution_count": 8,
     "metadata": {},
     "output_type": "execute_result"
    },
    {
     "data": {
      "image/png": "[encoded data removed]",
      "text/plain": [
       "<Figure size 432x288 with 1 Axes>"
      ]
     },
     "metadata": {
      "needs_background": "light"
     },
     "output_type": "display_data"
    }
   ],
   "source": [
    "# histogram of the pH optima\n",
    "sns.histplot(pH_optima, bins=100)"
   ]
  },
  {
   "cell_type": "markdown",
   "id": "f6be36e8-2cd1-49d2-a335-ee244c81be52",
   "metadata": {},
   "source": [
    "#### Notes\n",
    "Switching to a running mean fixed the endpoint pH problems"
   ]
  },
  {
   "cell_type": "code",
   "execution_count": 9,
   "id": "ffa7faca-7ed1-4828-985c-406349aedd71",
   "metadata": {},
   "outputs": [
    {
     "data": {
      "text/plain": [
       "<AxesSubplot:xlabel='pH.water', ylabel='Count'>"
      ]
     },
     "execution_count": 9,
     "metadata": {},
     "output_type": "execute_result"
    },
    {
     "data": {
      "image/png": "[encoded data removed]",
      "text/plain": [
       "<Figure size 432x288 with 1 Axes>"
      ]
     },
     "metadata": {
      "needs_background": "light"
     },
     "output_type": "display_data"
    }
   ],
   "source": [
    "# plot the pH values from the metadata\n",
    "sns.histplot(md['pH.water'])"
   ]
  },
  {
   "cell_type": "code",
   "execution_count": 10,
   "id": "44e04c1d-a351-473c-a695-56561d6e6580",
   "metadata": {},
   "outputs": [],
   "source": [
    "# get the results of matching the ASVs to GTDB\n",
    "to_gtdb = pd.read_csv('/data/mhoffert/optimum_ph/analysis/gtdb_map/Oliverio_2020a_to_GTDB_bac120_r202.tsv', sep='\\t', header=None)"
   ]
  },
  {
   "cell_type": "code",
   "execution_count": 11,
   "id": "3d9de73b-a115-43e4-ab46-c5fca77b23d7",
   "metadata": {},
   "outputs": [],
   "source": [
    "# subset to ASVs in the final table\n",
    "to_gtdb = to_gtdb[to_gtdb[0].isin(otus_norm.index)]"
   ]
  },
  {
   "cell_type": "code",
   "execution_count": 12,
   "id": "7b87c51a-28a9-4633-9d8b-288c061293fd",
   "metadata": {},
   "outputs": [
    {
     "data": {
      "text/plain": [
       "8776"
      ]
     },
     "execution_count": 12,
     "metadata": {},
     "output_type": "execute_result"
    }
   ],
   "source": [
    "# how many ASVs matched?\n",
    "len(to_gtdb[0].unique())"
   ]
  },
  {
   "cell_type": "code",
   "execution_count": 13,
   "id": "764c8d7e-a8e9-49b0-973d-81c3f7327c78",
   "metadata": {},
   "outputs": [
    {
     "data": {
      "text/plain": [
       "2325"
      ]
     },
     "execution_count": 13,
     "metadata": {},
     "output_type": "execute_result"
    }
   ],
   "source": [
    "# how many genomes matched?\n",
    "len(to_gtdb[1].unique())"
   ]
  },
  {
   "cell_type": "code",
   "execution_count": 14,
   "id": "49dc8002-1f4a-4a43-865b-5ad9ed0a3804",
   "metadata": {},
   "outputs": [],
   "source": [
    "# get a list of genomes which had 1 ASV match\n",
    "gb_genome = to_gtdb.groupby(1).apply(lambda x: list(x[0]))\n",
    "# subset to genomes with a single ASV match\n",
    "single_asv_genomes = gb_genome[gb_genome.apply(len) == 1]\n",
    "# also get genomes with multiple ASVs, but only ones with a\n",
    "# standard deviation of pH less than 0.3 (arbitrarily)\n",
    "gb_genome_ph_std = gb_genome.apply(lambda x: np.std(pH_optima.loc[x]))\n",
    "consistent_multiple_asv_genomes = gb_genome_ph_std[gb_genome_ph_std < 0.3]"
   ]
  },
  {
   "cell_type": "markdown",
   "id": "7cf306a4-f002-4765-97a0-0c3c94205b24",
   "metadata": {},
   "source": [
    "#### Notes\n",
    "I just picked the genomes with only 1 ASV match, so there's only 1 measured pH optimum for that genome. If there are multiple ASVs which match a genome, I'm picking only the genomes where the different pH estimates for matching ASVs are close together."
   ]
  },
  {
   "cell_type": "code",
   "execution_count": 15,
   "id": "ea23be3d-d0ae-4fb2-8cf4-9b3f117e38b7",
   "metadata": {},
   "outputs": [],
   "source": [
    "# make a version with ids not containing the RF_ prefix\n",
    "# reformat genome ids from RS_GCA_000719105.1 to GCA_000719105.1\n",
    "gb_genome_reformat = gb_genome.copy(deep=True)\n",
    "gb_genome_reformat.index = ['_'.join(s.split('_')[1:]) for s in gb_genome_reformat.index]"
   ]
  },
  {
   "cell_type": "code",
   "execution_count": 16,
   "id": "d68f1a3e-74ad-438d-9e91-a440ae4a3d0b",
   "metadata": {},
   "outputs": [],
   "source": [
    "# make a combined list\n",
    "matched_genomes = list(set(list(single_asv_genomes.index) + list(consistent_multiple_asv_genomes.index)))"
   ]
  },
  {
   "cell_type": "code",
   "execution_count": 17,
   "id": "c3cac85c-d188-49be-bdb2-29a84d9e602b",
   "metadata": {},
   "outputs": [],
   "source": [
    "# reformat genome ids from RS_GCA_000719105.1 to GCA_000719105.1\n",
    "matched_genomes_noprefix = ['_'.join(s.split('_')[1:]) for s in matched_genomes]"
   ]
  },
  {
   "cell_type": "code",
   "execution_count": 18,
   "id": "4cd921a5-fe7d-4090-a8f2-b5beb5d3afb7",
   "metadata": {},
   "outputs": [
    {
     "data": {
      "text/plain": [
       "1329"
      ]
     },
     "execution_count": 18,
     "metadata": {},
     "output_type": "execute_result"
    }
   ],
   "source": [
    "len(matched_genomes)"
   ]
  },
  {
   "cell_type": "code",
   "execution_count": 19,
   "id": "f629c22c-5371-4ec7-b1d2-99fb080e9d31",
   "metadata": {},
   "outputs": [
    {
     "name": "stderr",
     "output_type": "stream",
     "text": [
      "The default dtype for empty Series will be 'object' instead of 'float64' in a future version. Specify a dtype explicitly to silence this warning.\n"
     ]
    }
   ],
   "source": [
    "# get the pH prediction for each genome\n",
    "genome_ph_preds = pd.Series()\n",
    "for m in matched_genomes:\n",
    "    new_m = '_'.join(m.split('_')[1:])\n",
    "    genome_ph_preds.loc[new_m] = pH_optima.loc[gb_genome.loc[m]].mean()"
   ]
  },
  {
   "cell_type": "markdown",
   "id": "4c619000-7d13-4b88-bc7a-2ed8bfa19622",
   "metadata": {},
   "source": [
    "## Building ML methods from k-mers\n",
    "Although I don't think that k-mers are the most functionally informative method to use because I'd expect the euclidean distance bewtween two genome's k-mer profiles to be correlated with the phylogenetic distance between the profiles - so the model is kind of being built off of taxonomic / phylogenetic information. However, using k-mers is pretty common, and a lot faster than annotating all the genomes with Pfam. So I'm going to test some models to predict pH from k-mer counts data first as a proof of concept."
   ]
  },
  {
   "cell_type": "code",
   "execution_count": 20,
   "id": "7698193c-8af0-43b6-931a-dae16c35d919",
   "metadata": {},
   "outputs": [],
   "source": [
    "\"\"\"\n",
    "get paths to GTDB genomes to get k-mer counts\n",
    "\"\"\"\n",
    "genome_paths = pd.read_csv(\"/data/mhoffert/genomes/GTDB/gtdb_genomes_reps_r202/genome_paths.tsv\", sep=' ', header=None)\n",
    "genome_paths = genome_paths.rename(columns={0:'name', 1:'path'})\n",
    "genome_paths['path_reformat'] = genome_paths['path'].apply(lambda x: f'/data/mhoffert/genomes/GTDB/gtdb_genomes_reps_r202/{x}')\n",
    "genome_paths['genome'] = genome_paths['name'].apply(lambda x: x.split('_genomic')[0])\n",
    "genome_paths['full'] = genome_paths.apply(lambda row: f'{row[\"path_reformat\"]}{row[\"name\"]}', axis=1)\n",
    "genome_paths = genome_paths.set_index('genome')"
   ]
  },
  {
   "cell_type": "code",
   "execution_count": 21,
   "id": "5af2469e-4ab3-48e5-8eff-30467e5ff8ab",
   "metadata": {},
   "outputs": [
    {
     "data": {
      "text/html": [
       "<div>\n",
       "<style scoped>\n",
       "    .dataframe tbody tr th:only-of-type {\n",
       "        vertical-align: middle;\n",
       "    }\n",
       "\n",
       "    .dataframe tbody tr th {\n",
       "        vertical-align: top;\n",
       "    }\n",
       "\n",
       "    .dataframe thead th {\n",
       "        text-align: right;\n",
       "    }\n",
       "</style>\n",
       "<table border=\"1\" class=\"dataframe\">\n",
       "  <thead>\n",
       "    <tr style=\"text-align: right;\">\n",
       "      <th></th>\n",
       "      <th>name</th>\n",
       "      <th>path</th>\n",
       "      <th>path_reformat</th>\n",
       "      <th>full</th>\n",
       "    </tr>\n",
       "    <tr>\n",
       "      <th>genome</th>\n",
       "      <th></th>\n",
       "      <th></th>\n",
       "      <th></th>\n",
       "      <th></th>\n",
       "    </tr>\n",
       "  </thead>\n",
       "  <tbody>\n",
       "    <tr>\n",
       "      <th>GCF_004348415.1</th>\n",
       "      <td>GCF_004348415.1_genomic.fna.gz</td>\n",
       "      <td>GCF/004/348/415/</td>\n",
       "      <td>/data/mhoffert/genomes/GTDB/gtdb_genomes_reps_...</td>\n",
       "      <td>/data/mhoffert/genomes/GTDB/gtdb_genomes_reps_...</td>\n",
       "    </tr>\n",
       "    <tr>\n",
       "      <th>GCF_002944405.1</th>\n",
       "      <td>GCF_002944405.1_genomic.fna.gz</td>\n",
       "      <td>GCF/002/944/405/</td>\n",
       "      <td>/data/mhoffert/genomes/GTDB/gtdb_genomes_reps_...</td>\n",
       "      <td>/data/mhoffert/genomes/GTDB/gtdb_genomes_reps_...</td>\n",
       "    </tr>\n",
       "    <tr>\n",
       "      <th>GCF_004364125.1</th>\n",
       "      <td>GCF_004364125.1_genomic.fna.gz</td>\n",
       "      <td>GCF/004/364/125/</td>\n",
       "      <td>/data/mhoffert/genomes/GTDB/gtdb_genomes_reps_...</td>\n",
       "      <td>/data/mhoffert/genomes/GTDB/gtdb_genomes_reps_...</td>\n",
       "    </tr>\n",
       "    <tr>\n",
       "      <th>GCF_002198715.1</th>\n",
       "      <td>GCF_002198715.1_genomic.fna.gz</td>\n",
       "      <td>GCF/002/198/715/</td>\n",
       "      <td>/data/mhoffert/genomes/GTDB/gtdb_genomes_reps_...</td>\n",
       "      <td>/data/mhoffert/genomes/GTDB/gtdb_genomes_reps_...</td>\n",
       "    </tr>\n",
       "    <tr>\n",
       "      <th>GCF_003319095.1</th>\n",
       "      <td>GCF_003319095.1_genomic.fna.gz</td>\n",
       "      <td>GCF/003/319/095/</td>\n",
       "      <td>/data/mhoffert/genomes/GTDB/gtdb_genomes_reps_...</td>\n",
       "      <td>/data/mhoffert/genomes/GTDB/gtdb_genomes_reps_...</td>\n",
       "    </tr>\n",
       "    <tr>\n",
       "      <th>...</th>\n",
       "      <td>...</td>\n",
       "      <td>...</td>\n",
       "      <td>...</td>\n",
       "      <td>...</td>\n",
       "    </tr>\n",
       "    <tr>\n",
       "      <th>GCF_004137245.1</th>\n",
       "      <td>GCF_004137245.1_genomic.fna.gz</td>\n",
       "      <td>GCF/004/137/245/</td>\n",
       "      <td>/data/mhoffert/genomes/GTDB/gtdb_genomes_reps_...</td>\n",
       "      <td>/data/mhoffert/genomes/GTDB/gtdb_genomes_reps_...</td>\n",
       "    </tr>\n",
       "    <tr>\n",
       "      <th>GCF_011752565.1</th>\n",
       "      <td>GCF_011752565.1_genomic.fna.gz</td>\n",
       "      <td>GCF/011/752/565/</td>\n",
       "      <td>/data/mhoffert/genomes/GTDB/gtdb_genomes_reps_...</td>\n",
       "      <td>/data/mhoffert/genomes/GTDB/gtdb_genomes_reps_...</td>\n",
       "    </tr>\n",
       "    <tr>\n",
       "      <th>GCF_001591405.1</th>\n",
       "      <td>GCF_001591405.1_genomic.fna.gz</td>\n",
       "      <td>GCF/001/591/405/</td>\n",
       "      <td>/data/mhoffert/genomes/GTDB/gtdb_genomes_reps_...</td>\n",
       "      <td>/data/mhoffert/genomes/GTDB/gtdb_genomes_reps_...</td>\n",
       "    </tr>\n",
       "    <tr>\n",
       "      <th>GCF_001571045.1</th>\n",
       "      <td>GCF_001571045.1_genomic.fna.gz</td>\n",
       "      <td>GCF/001/571/045/</td>\n",
       "      <td>/data/mhoffert/genomes/GTDB/gtdb_genomes_reps_...</td>\n",
       "      <td>/data/mhoffert/genomes/GTDB/gtdb_genomes_reps_...</td>\n",
       "    </tr>\n",
       "    <tr>\n",
       "      <th>GCF_001418335.1</th>\n",
       "      <td>GCF_001418335.1_genomic.fna.gz</td>\n",
       "      <td>GCF/001/418/335/</td>\n",
       "      <td>/data/mhoffert/genomes/GTDB/gtdb_genomes_reps_...</td>\n",
       "      <td>/data/mhoffert/genomes/GTDB/gtdb_genomes_reps_...</td>\n",
       "    </tr>\n",
       "  </tbody>\n",
       "</table>\n",
       "<p>1329 rows × 4 columns</p>\n",
       "</div>"
      ],
      "text/plain": [
       "                                           name              path  \\\n",
       "genome                                                              \n",
       "GCF_004348415.1  GCF_004348415.1_genomic.fna.gz  GCF/004/348/415/   \n",
       "GCF_002944405.1  GCF_002944405.1_genomic.fna.gz  GCF/002/944/405/   \n",
       "GCF_004364125.1  GCF_004364125.1_genomic.fna.gz  GCF/004/364/125/   \n",
       "GCF_002198715.1  GCF_002198715.1_genomic.fna.gz  GCF/002/198/715/   \n",
       "GCF_003319095.1  GCF_003319095.1_genomic.fna.gz  GCF/003/319/095/   \n",
       "...                                         ...               ...   \n",
       "GCF_004137245.1  GCF_004137245.1_genomic.fna.gz  GCF/004/137/245/   \n",
       "GCF_011752565.1  GCF_011752565.1_genomic.fna.gz  GCF/011/752/565/   \n",
       "GCF_001591405.1  GCF_001591405.1_genomic.fna.gz  GCF/001/591/405/   \n",
       "GCF_001571045.1  GCF_001571045.1_genomic.fna.gz  GCF/001/571/045/   \n",
       "GCF_001418335.1  GCF_001418335.1_genomic.fna.gz  GCF/001/418/335/   \n",
       "\n",
       "                                                     path_reformat  \\\n",
       "genome                                                               \n",
       "GCF_004348415.1  /data/mhoffert/genomes/GTDB/gtdb_genomes_reps_...   \n",
       "GCF_002944405.1  /data/mhoffert/genomes/GTDB/gtdb_genomes_reps_...   \n",
       "GCF_004364125.1  /data/mhoffert/genomes/GTDB/gtdb_genomes_reps_...   \n",
       "GCF_002198715.1  /data/mhoffert/genomes/GTDB/gtdb_genomes_reps_...   \n",
       "GCF_003319095.1  /data/mhoffert/genomes/GTDB/gtdb_genomes_reps_...   \n",
       "...                                                            ...   \n",
       "GCF_004137245.1  /data/mhoffert/genomes/GTDB/gtdb_genomes_reps_...   \n",
       "GCF_011752565.1  /data/mhoffert/genomes/GTDB/gtdb_genomes_reps_...   \n",
       "GCF_001591405.1  /data/mhoffert/genomes/GTDB/gtdb_genomes_reps_...   \n",
       "GCF_001571045.1  /data/mhoffert/genomes/GTDB/gtdb_genomes_reps_...   \n",
       "GCF_001418335.1  /data/mhoffert/genomes/GTDB/gtdb_genomes_reps_...   \n",
       "\n",
       "                                                              full  \n",
       "genome                                                              \n",
       "GCF_004348415.1  /data/mhoffert/genomes/GTDB/gtdb_genomes_reps_...  \n",
       "GCF_002944405.1  /data/mhoffert/genomes/GTDB/gtdb_genomes_reps_...  \n",
       "GCF_004364125.1  /data/mhoffert/genomes/GTDB/gtdb_genomes_reps_...  \n",
       "GCF_002198715.1  /data/mhoffert/genomes/GTDB/gtdb_genomes_reps_...  \n",
       "GCF_003319095.1  /data/mhoffert/genomes/GTDB/gtdb_genomes_reps_...  \n",
       "...                                                            ...  \n",
       "GCF_004137245.1  /data/mhoffert/genomes/GTDB/gtdb_genomes_reps_...  \n",
       "GCF_011752565.1  /data/mhoffert/genomes/GTDB/gtdb_genomes_reps_...  \n",
       "GCF_001591405.1  /data/mhoffert/genomes/GTDB/gtdb_genomes_reps_...  \n",
       "GCF_001571045.1  /data/mhoffert/genomes/GTDB/gtdb_genomes_reps_...  \n",
       "GCF_001418335.1  /data/mhoffert/genomes/GTDB/gtdb_genomes_reps_...  \n",
       "\n",
       "[1329 rows x 4 columns]"
      ]
     },
     "execution_count": 21,
     "metadata": {},
     "output_type": "execute_result"
    }
   ],
   "source": [
    "genome_paths.loc[matched_genomes_noprefix]"
   ]
  },
  {
   "cell_type": "markdown",
   "id": "2f63dd11-8e35-47a7-a268-d741ac71c599",
   "metadata": {},
   "source": [
    "#### Notes\n",
    "The below code takes about 20 minutes to run for the 1,300 genomes"
   ]
  },
  {
   "cell_type": "code",
   "execution_count": 24,
   "id": "a345d64c-9a41-4cb1-8280-ea3923b99efa",
   "metadata": {},
   "outputs": [
    {
     "data": {
      "text/plain": [
       "'99.923%'"
      ]
     },
     "metadata": {},
     "output_type": "display_data"
    }
   ],
   "source": [
    "\"\"\"\n",
    "Construct k-mer counts for each genome we have pH measurements for\n",
    "\"\"\"\n",
    "kmer_counters = []\n",
    "num_complete = 0\n",
    "total = 1300\n",
    "k = 6\n",
    "# sample a number of genomes\n",
    "sampled_genomes = sample(matched_genomes_noprefix, total)\n",
    "# for each path\n",
    "for path in genome_paths.loc[sampled_genomes, 'full']:\n",
    "    perccomp = num_complete / total * 100\n",
    "    fstr = f'{perccomp:.3f}%'\n",
    "    display(fstr)\n",
    "    clear_output(wait=True)\n",
    "    with gzip.open(path, \"rt\") as handle:\n",
    "        records = []\n",
    "        for r in SeqIO.parse(handle, \"fasta\"):\n",
    "            records.append(r)\n",
    "    # construct a counter of k-mers\n",
    "    for r, i in zip(records, range(len(records))):\n",
    "        rlist = str(r.seq)\n",
    "        rlist_kmer = [rlist[i:i+k] for i in range(0, len(rlist)-k+1)]\n",
    "        if i == 0:\n",
    "            c = Counter(rlist_kmer)\n",
    "        else:\n",
    "            c = c + Counter(rlist_kmer)\n",
    "    kmer_counters.append(c)\n",
    "    num_complete += 1"
   ]
  },
  {
   "cell_type": "code",
   "execution_count": 25,
   "id": "5bd17688-9593-49a6-b24b-0e68ddaff0da",
   "metadata": {},
   "outputs": [],
   "source": [
    "# make count frequency data for ML models\n",
    "kmers = [''.join(s) for s in itertools.product('ATGC', repeat=k)]\n",
    "kmers_rf_data =  pd.DataFrame(kmer_counters, index=sampled_genomes).reindex(columns=kmers).fillna(0)\n",
    "kmers_y_data = genome_ph_preds.loc[sampled_genomes]"
   ]
  },
  {
   "cell_type": "code",
   "execution_count": 65,
   "id": "48a526be-5371-4b7c-a438-8c0a060db185",
   "metadata": {},
   "outputs": [],
   "source": [
    "kmers_rf_data_norm = kmers_rf_data.divide(kmers_rf_data.sum(1), 0)"
   ]
  },
  {
   "cell_type": "markdown",
   "id": "5b0be861-51fd-4d2c-b7b8-0dd1e7d4bb6a",
   "metadata": {},
   "source": [
    "## Random Forest test"
   ]
  },
  {
   "cell_type": "code",
   "execution_count": 67,
   "id": "90793eca-b0db-413a-b98d-394e66a941e3",
   "metadata": {},
   "outputs": [
    {
     "data": {
      "text/html": [
       "<div>\n",
       "<style scoped>\n",
       "    .dataframe tbody tr th:only-of-type {\n",
       "        vertical-align: middle;\n",
       "    }\n",
       "\n",
       "    .dataframe tbody tr th {\n",
       "        vertical-align: top;\n",
       "    }\n",
       "\n",
       "    .dataframe thead th {\n",
       "        text-align: right;\n",
       "    }\n",
       "</style>\n",
       "<table border=\"1\" class=\"dataframe\">\n",
       "  <thead>\n",
       "    <tr style=\"text-align: right;\">\n",
       "      <th></th>\n",
       "      <th>n_trees</th>\n",
       "      <th>depth</th>\n",
       "    </tr>\n",
       "    <tr>\n",
       "      <th>rep</th>\n",
       "      <th></th>\n",
       "      <th></th>\n",
       "    </tr>\n",
       "  </thead>\n",
       "  <tbody>\n",
       "    <tr>\n",
       "      <th>0</th>\n",
       "      <td>100</td>\n",
       "      <td>1</td>\n",
       "    </tr>\n",
       "    <tr>\n",
       "      <th>1</th>\n",
       "      <td>100</td>\n",
       "      <td>3</td>\n",
       "    </tr>\n",
       "    <tr>\n",
       "      <th>2</th>\n",
       "      <td>100</td>\n",
       "      <td>5</td>\n",
       "    </tr>\n",
       "    <tr>\n",
       "      <th>3</th>\n",
       "      <td>100</td>\n",
       "      <td>10</td>\n",
       "    </tr>\n",
       "    <tr>\n",
       "      <th>4</th>\n",
       "      <td>500</td>\n",
       "      <td>1</td>\n",
       "    </tr>\n",
       "  </tbody>\n",
       "</table>\n",
       "</div>"
      ],
      "text/plain": [
       "     n_trees  depth\n",
       "rep                \n",
       "0        100      1\n",
       "1        100      3\n",
       "2        100      5\n",
       "3        100     10\n",
       "4        500      1"
      ]
     },
     "execution_count": 67,
     "metadata": {},
     "output_type": "execute_result"
    }
   ],
   "source": [
    "# define a grid of parameters to test\n",
    "n_trees = [100, 500, 1000]\n",
    "depth = [1,3,5,10]\n",
    "grid = pd.DataFrame(index=pd.MultiIndex.from_product([n_trees, depth], names=['n_trees', 'depth'])).reset_index()\n",
    "grid.index.name = 'rep'\n",
    "grid.head()"
   ]
  },
  {
   "cell_type": "code",
   "execution_count": 42,
   "id": "96758566-a2ad-4fa6-8245-a61d4a4b694a",
   "metadata": {},
   "outputs": [
    {
     "data": {
      "text/plain": [
       "0.9166666666666666"
      ]
     },
     "metadata": {},
     "output_type": "display_data"
    }
   ],
   "source": [
    "\"\"\"\n",
    "Perform testing of different parameters\n",
    "without CV or repetitions or anything fancy\n",
    "I just want to know if the predictions are 100% garbage\n",
    "\"\"\"\n",
    "results = pd.Series()\n",
    "for index, row in grid.iterrows():\n",
    "    display(index / len(grid))\n",
    "    clear_output(wait=True)\n",
    "\n",
    "    regr = RandomForestRegressor(max_depth=row['depth'], \n",
    "                                 n_estimators=row['n_trees'], \n",
    "                                 bootstrap=True, \n",
    "                                 n_jobs=16,\n",
    "                                 max_features=400,\n",
    "                                 oob_score=True)\n",
    "    regr.fit(kmers_rf_data.head(1000).values, kmers_y_data.head(1000).values)\n",
    "    preds = regr.predict(kmers_rf_data.tail(300))\n",
    "    mse = ((preds - kmers_y_data.tail(300)) ** 2).mean()\n",
    "    results.loc[index] = mse"
   ]
  },
  {
   "cell_type": "code",
   "execution_count": 80,
   "id": "b03a5908-b984-4639-a635-d9b0961fae18",
   "metadata": {},
   "outputs": [],
   "source": [
    "# test on normalized k-mer counts\n",
    "regr = RandomForestRegressor(max_depth=2, \n",
    "                             n_estimators=1000, \n",
    "                             bootstrap=True, \n",
    "                             n_jobs=16,\n",
    "                             oob_score=True,\n",
    "                             max_features=5,\n",
    "                             max_samples=0.6)\n",
    "regr.fit(kmers_rf_data_norm.head(1000).values, kmers_y_data.head(1000).values)\n",
    "preds = regr.predict(kmers_rf_data.tail(300))\n",
    "mse = ((preds - kmers_y_data.tail(300)) ** 2).mean()"
   ]
  },
  {
   "cell_type": "code",
   "execution_count": 81,
   "id": "025d033a-290b-45b4-9420-c90e59d9d4dc",
   "metadata": {},
   "outputs": [
    {
     "data": {
      "text/plain": [
       "0.8817719045592499"
      ]
     },
     "execution_count": 81,
     "metadata": {},
     "output_type": "execute_result"
    }
   ],
   "source": [
    "mse"
   ]
  },
  {
   "cell_type": "code",
   "execution_count": 43,
   "id": "2eaf424b-87ae-4634-9de1-43b1ab3f910a",
   "metadata": {},
   "outputs": [
    {
     "data": {
      "text/plain": [
       "<AxesSubplot:xlabel='n_trees', ylabel='result'>"
      ]
     },
     "execution_count": 43,
     "metadata": {},
     "output_type": "execute_result"
    },
    {
     "data": {
      "image/png": "[encoded data removed]",
      "text/plain": [
       "<Figure size 432x288 with 1 Axes>"
      ]
     },
     "metadata": {
      "needs_background": "light"
     },
     "output_type": "display_data"
    }
   ],
   "source": [
    "# plot performance using MSE as the loss function\n",
    "sns.lineplot(data=pd.merge(results.rename('result'), grid, left_index=True, right_index=True), y='result', x='n_trees', hue='depth')"
   ]
  },
  {
   "cell_type": "code",
   "execution_count": 44,
   "id": "854e3762-e0bc-4f6b-a189-abeed58c51f0",
   "metadata": {},
   "outputs": [
    {
     "data": {
      "text/plain": [
       "[<matplotlib.lines.Line2D at 0x7fea5a2996a0>]"
      ]
     },
     "execution_count": 44,
     "metadata": {},
     "output_type": "execute_result"
    },
    {
     "data": {
      "image/png": "[encoded data removed]",
      "text/plain": [
       "<Figure size 432x288 with 1 Axes>"
      ]
     },
     "metadata": {
      "needs_background": "light"
     },
     "output_type": "display_data"
    }
   ],
   "source": [
    "# just plot predictions vs actual\n",
    "sns.scatterplot(y=preds, x=kmers_y_data.tail(300).values, alpha=0.65, s=100, linewidth=0)\n",
    "plt.plot((4.5,6.5), (4.5,6.5))"
   ]
  },
  {
   "cell_type": "code",
   "execution_count": 45,
   "id": "b8e365aa-6ef3-4f42-8371-fd483c324719",
   "metadata": {},
   "outputs": [
    {
     "data": {
      "text/plain": [
       "SpearmanrResult(correlation=0.34095591846421713, pvalue=1.3316771348803256e-09)"
      ]
     },
     "execution_count": 45,
     "metadata": {},
     "output_type": "execute_result"
    }
   ],
   "source": [
    "spearmanr(preds, kmers_y_data.tail(300).values)"
   ]
  },
  {
   "cell_type": "markdown",
   "id": "90cd5918-fa51-4e50-b61d-c6892dd9866c",
   "metadata": {},
   "source": [
    "The predictions aren't good, but they aren't 100% garbage, which gives me hope we can actually do this"
   ]
  },
  {
   "cell_type": "markdown",
   "id": "2ae92225-6a53-4405-ba15-5a31b232b6c9",
   "metadata": {},
   "source": [
    "## Boosting test"
   ]
  },
  {
   "cell_type": "code",
   "execution_count": 46,
   "id": "e5192173-ab7b-450a-ba2b-511422f7fdd0",
   "metadata": {},
   "outputs": [],
   "source": [
    "from sklearn.ensemble import GradientBoostingRegressor"
   ]
  },
  {
   "cell_type": "code",
   "execution_count": 47,
   "id": "016e51ff-c93d-4669-b1e3-d319c8d112c7",
   "metadata": {},
   "outputs": [],
   "source": [
    "from sklearn.model_selection import train_test_split"
   ]
  },
  {
   "cell_type": "code",
   "execution_count": 82,
   "id": "041d03a0-72de-47fa-9fc2-8e5dac3c24ed",
   "metadata": {},
   "outputs": [
    {
     "data": {
      "text/html": [
       "<div>\n",
       "<style scoped>\n",
       "    .dataframe tbody tr th:only-of-type {\n",
       "        vertical-align: middle;\n",
       "    }\n",
       "\n",
       "    .dataframe tbody tr th {\n",
       "        vertical-align: top;\n",
       "    }\n",
       "\n",
       "    .dataframe thead th {\n",
       "        text-align: right;\n",
       "    }\n",
       "</style>\n",
       "<table border=\"1\" class=\"dataframe\">\n",
       "  <thead>\n",
       "    <tr style=\"text-align: right;\">\n",
       "      <th></th>\n",
       "      <th>n_trees</th>\n",
       "      <th>depth</th>\n",
       "      <th>rate</th>\n",
       "    </tr>\n",
       "    <tr>\n",
       "      <th>rep</th>\n",
       "      <th></th>\n",
       "      <th></th>\n",
       "      <th></th>\n",
       "    </tr>\n",
       "  </thead>\n",
       "  <tbody>\n",
       "    <tr>\n",
       "      <th>0</th>\n",
       "      <td>100</td>\n",
       "      <td>1</td>\n",
       "      <td>0.10</td>\n",
       "    </tr>\n",
       "    <tr>\n",
       "      <th>1</th>\n",
       "      <td>100</td>\n",
       "      <td>1</td>\n",
       "      <td>0.01</td>\n",
       "    </tr>\n",
       "    <tr>\n",
       "      <th>2</th>\n",
       "      <td>100</td>\n",
       "      <td>3</td>\n",
       "      <td>0.10</td>\n",
       "    </tr>\n",
       "    <tr>\n",
       "      <th>3</th>\n",
       "      <td>100</td>\n",
       "      <td>3</td>\n",
       "      <td>0.01</td>\n",
       "    </tr>\n",
       "    <tr>\n",
       "      <th>4</th>\n",
       "      <td>100</td>\n",
       "      <td>5</td>\n",
       "      <td>0.10</td>\n",
       "    </tr>\n",
       "  </tbody>\n",
       "</table>\n",
       "</div>"
      ],
      "text/plain": [
       "     n_trees  depth  rate\n",
       "rep                      \n",
       "0        100      1  0.10\n",
       "1        100      1  0.01\n",
       "2        100      3  0.10\n",
       "3        100      3  0.01\n",
       "4        100      5  0.10"
      ]
     },
     "execution_count": 82,
     "metadata": {},
     "output_type": "execute_result"
    }
   ],
   "source": [
    "# define a grid of parameters to test\n",
    "n_trees = [100,500,1000, 2000]\n",
    "depth = [1,3,5,10,15]\n",
    "learning_rate = [0.1, 0.01]\n",
    "boosted_grid = pd.DataFrame(index=pd.MultiIndex.from_product([n_trees, depth, learning_rate], names=['n_trees', 'depth', 'rate'])).reset_index()\n",
    "boosted_grid.index.name = 'rep'\n",
    "boosted_grid.head()"
   ]
  },
  {
   "cell_type": "code",
   "execution_count": null,
   "id": "f4b4fdc0-ae76-419e-8e0f-7a16e12998a1",
   "metadata": {},
   "outputs": [
    {
     "name": "stdout",
     "output_type": "stream",
     "text": [
      "n_trees    2000.00\n",
      "depth        15.00\n",
      "rate          0.01\n",
      "Name: 39, dtype: float64\n"
     ]
    }
   ],
   "source": [
    "\"\"\"\n",
    "Perform CV-free testing of different parameters\n",
    "\"\"\"\n",
    "boost_results = pd.Series()\n",
    "for index, row in boosted_grid.iterrows():\n",
    "    display(index / len(grid))\n",
    "    clear_output(wait=True)\n",
    "    print(row)\n",
    "    regr = XGBRegressor(max_depth=int(row['depth']), \n",
    "                         n_estimators=int(row['n_trees']), \n",
    "                         learning_rate=row['rate'])\n",
    "    regr.fit(kmers_rf_data.astype(int).head(1000).values, kmers_y_data.head(1000).values)\n",
    "    preds = regr.predict(kmers_rf_data.tail(300))\n",
    "    mse = ((preds - kmers_y_data.tail(300)) ** 2).mean()\n",
    "    boost_results.loc[index] = mse"
   ]
  },
  {
   "cell_type": "code",
   "execution_count": 118,
   "id": "dfc3ded8-0e64-490c-96f8-11642ff43804",
   "metadata": {},
   "outputs": [
    {
     "data": {
      "text/plain": [
       "array([5.2595444, 5.7382555, 5.4171557, 6.252629 , 5.552281 , 5.4246373,\n",
       "       6.2533307, 4.9493523, 5.403475 , 5.9030366, 5.142088 , 6.017497 ,\n",
       "       5.896805 , 5.3896294, 5.6965585, 6.0855646, 6.0357137, 6.0469933,\n",
       "       5.3756003, 6.0637417, 5.7166944, 5.8979683, 5.99583  , 5.3195143,\n",
       "       5.9050546, 4.06354  , 5.81195  , 5.255494 , 5.841297 , 5.81096  ,\n",
       "       4.959969 , 6.445593 , 5.748142 , 5.3353767, 5.943613 , 6.6144896,\n",
       "       5.9470544, 6.0089693, 6.167863 , 5.3002167, 6.248824 , 5.562599 ,\n",
       "       5.521138 , 5.262222 , 5.888185 , 5.8611283, 5.418357 , 4.5828023,\n",
       "       5.3585553, 5.9209166, 6.113533 , 5.6363583, 5.786273 , 5.7326603,\n",
       "       5.1914043, 5.9250064, 4.9958167, 6.7987533, 5.845148 , 6.038453 ,\n",
       "       6.6824107, 6.4928365, 5.903044 , 6.135102 , 5.8332195, 5.8341985,\n",
       "       6.7168703, 6.0541873, 5.208086 , 6.2609987, 5.604011 , 6.1717334,\n",
       "       5.91127  , 6.2330213, 5.285799 , 5.9235883, 6.280694 , 5.7441206,\n",
       "       5.2977304, 6.339983 , 6.0067396, 6.2681684, 4.711892 , 5.8658743,\n",
       "       5.278612 , 4.891658 , 6.32906  , 5.5027637, 6.002268 , 6.17427  ,\n",
       "       5.83905  , 6.009043 , 6.051818 , 5.27275  , 5.670984 , 4.9905033,\n",
       "       6.5666065, 5.123707 , 6.315763 , 5.807202 , 4.9950705, 5.403064 ,\n",
       "       5.4304466, 5.2523227, 6.0404634, 5.5675654, 6.049702 , 6.220999 ,\n",
       "       5.6034613, 5.9910355, 6.5232105, 6.062936 , 5.675999 , 5.7427006,\n",
       "       6.02949  , 5.589884 , 4.708209 , 4.619426 , 6.052473 , 6.5921764,\n",
       "       5.700484 , 5.858875 , 5.9604464, 5.660734 , 6.365204 , 6.427528 ,\n",
       "       5.808546 , 4.9236565, 6.138225 , 6.258367 , 6.0138474, 5.7374806,\n",
       "       6.1625223, 5.2456346, 6.5392423, 5.4182625, 6.015783 , 6.466888 ,\n",
       "       5.912805 , 6.3627815, 5.740925 , 5.0393124, 5.758961 , 4.916675 ,\n",
       "       6.4097056, 6.0571923, 4.519665 , 5.7502546, 6.0314283, 6.635261 ,\n",
       "       6.265833 , 6.204669 , 5.0285935, 6.077319 , 6.0481043, 5.6469383,\n",
       "       5.602432 , 5.278079 , 6.679258 , 5.5606046, 6.088705 , 6.24005  ,\n",
       "       6.068443 , 5.1188126, 6.3052135, 5.8126426, 6.598691 , 6.439268 ,\n",
       "       5.2161303, 5.9918175, 5.9659433, 5.4925427, 6.9391327, 6.3698025,\n",
       "       5.950967 , 5.6598635, 6.3177195, 6.535846 , 5.7598767, 5.859367 ,\n",
       "       6.0338717, 6.0014005, 6.2037625, 6.097314 , 6.4607773, 5.8921113,\n",
       "       5.8085194, 6.1490703, 6.197348 , 5.950565 , 6.4079714, 6.328327 ,\n",
       "       5.4720693, 5.730809 , 5.643711 , 5.518226 , 5.2652345, 5.4844766,\n",
       "       5.8230853, 5.647184 , 6.170647 , 6.625    , 6.5080085, 6.1132007,\n",
       "       6.0381594, 5.8306937, 5.934649 , 6.020249 , 6.011503 , 5.5941844,\n",
       "       5.814162 , 5.966531 , 5.291938 , 5.998122 , 6.3410673, 5.828557 ,\n",
       "       5.3977113, 5.22794  , 5.638792 , 5.795774 , 5.594893 , 5.385999 ,\n",
       "       5.7180724, 5.921206 , 6.0583587, 5.38728  , 5.317831 , 5.833464 ,\n",
       "       6.1293674, 5.7478995, 5.006434 , 6.0162454, 5.5621295, 5.9289327,\n",
       "       5.392002 , 5.7294927, 5.848322 , 5.4992127, 4.828194 , 6.125369 ,\n",
       "       5.8186483, 6.3333526, 5.185257 , 5.7336764, 5.386278 , 5.988501 ,\n",
       "       6.135508 , 6.6648827, 5.468863 , 5.895614 , 5.48296  , 6.4918847,\n",
       "       5.5469046, 5.83533  , 5.4511733, 5.688144 , 6.057414 , 6.062901 ,\n",
       "       6.034624 , 5.8644195, 6.31294  , 6.0816183, 6.316205 , 5.821359 ,\n",
       "       5.823285 , 5.2682633, 5.5426607, 5.0868144, 6.139701 , 5.540397 ,\n",
       "       6.0193753, 5.9306455, 6.438979 , 6.2963104, 5.801626 , 6.4377522,\n",
       "       6.125937 , 5.909601 , 5.3104334, 5.9949408, 5.979807 , 6.1503744,\n",
       "       5.723089 , 5.5808825, 5.9289117, 6.3544173, 6.1309867, 5.55485  ,\n",
       "       6.3805647, 6.4483533, 5.9314704, 5.9172664, 5.519499 , 5.810431 ,\n",
       "       5.9957075, 5.742385 , 6.0724945, 5.642809 , 5.8798203, 6.287504 ],\n",
       "      dtype=float32)"
      ]
     },
     "execution_count": 118,
     "metadata": {},
     "output_type": "execute_result"
    }
   ],
   "source": [
    "regr.predict(kmers_rf_data.tail(300))"
   ]
  },
  {
   "cell_type": "code",
   "execution_count": 116,
   "id": "eea93458-376f-4095-a198-5956feb833ce",
   "metadata": {},
   "outputs": [
    {
     "data": {
      "text/plain": [
       "0.8084726668417997"
      ]
     },
     "execution_count": 116,
     "metadata": {},
     "output_type": "execute_result"
    }
   ],
   "source": [
    "mse"
   ]
  },
  {
   "cell_type": "code",
   "execution_count": 109,
   "id": "f30afad1-cf26-4e8d-8f3e-e594f56e9032",
   "metadata": {},
   "outputs": [
    {
     "data": {
      "text/plain": [
       "<AxesSubplot:xlabel='n_trees', ylabel='result'>"
      ]
     },
     "execution_count": 109,
     "metadata": {},
     "output_type": "execute_result"
    },
    {
     "data": {
      "image/png": "[encoded data removed]",
      "text/plain": [
       "<Figure size 432x288 with 1 Axes>"
      ]
     },
     "metadata": {
      "needs_background": "light"
     },
     "output_type": "display_data"
    }
   ],
   "source": [
    "# plot performance using MSE as the loss function\n",
    "sns.lineplot(data=pd.merge(boost_results.rename('result'), grid, left_index=True, right_index=True), y='result', x='n_trees', hue='depth')"
   ]
  },
  {
   "cell_type": "markdown",
   "id": "2aac62a2-782d-4142-bb82-35173f6c0fc3",
   "metadata": {},
   "source": [
    "Something is messed up in the code"
   ]
  },
  {
   "cell_type": "code",
   "execution_count": 110,
   "id": "79cdeab9-92ff-4496-a8ef-dadaf31dc02d",
   "metadata": {},
   "outputs": [
    {
     "data": {
      "text/plain": [
       "[<matplotlib.lines.Line2D at 0x7fea6d3ac470>]"
      ]
     },
     "execution_count": 110,
     "metadata": {},
     "output_type": "execute_result"
    },
    {
     "data": {
      "image/png": "[encoded data removed]",
      "text/plain": [
       "<Figure size 432x288 with 1 Axes>"
      ]
     },
     "metadata": {
      "needs_background": "light"
     },
     "output_type": "display_data"
    }
   ],
   "source": [
    "# just plot predictions vs actual\n",
    "sns.scatterplot(y=preds, x=kmers_y_data.tail(300).values, alpha=0.65, s=100, linewidth=0)\n",
    "plt.plot((4.5,6.5), (4.5,6.5))"
   ]
  },
  {
   "cell_type": "code",
   "execution_count": 113,
   "id": "51bef230-a7a0-492b-a12b-a3e21e23d716",
   "metadata": {},
   "outputs": [
    {
     "data": {
      "text/plain": [
       "SpearmanrResult(correlation=0.31559464071175647, pvalue=2.3120588745623006e-08)"
      ]
     },
     "execution_count": 113,
     "metadata": {},
     "output_type": "execute_result"
    }
   ],
   "source": [
    "spearmanr(preds, kmers_y_data.tail(300).values)"
   ]
  },
  {
   "cell_type": "markdown",
   "id": "2048884a-b947-4b1e-87c3-51ec29ead904",
   "metadata": {},
   "source": [
    "# Done"
   ]
  },
  {
   "cell_type": "code",
   "execution_count": 390,
   "id": "a73a8f52-69d1-42bb-9441-4b8beb7adfc6",
   "metadata": {},
   "outputs": [],
   "source": [
    "genome_md = pd.read_csv('/data/mhoffert/genomes/GTDB/bac120_metadata_r202.tsv', sep='\\t', index_col=0, low_memory=False)"
   ]
  },
  {
   "cell_type": "code",
   "execution_count": 394,
   "id": "461756fa-ee60-4099-8730-876320b88d78",
   "metadata": {},
   "outputs": [],
   "source": [
    "genome_md['acc_reformat'] = genome_md.apply(lambda row: '_'.join(row.name.split('_')[1:]), axis=1)"
   ]
  },
  {
   "cell_type": "code",
   "execution_count": 396,
   "id": "28cac583-631d-4348-bafd-321d9d5bcef3",
   "metadata": {},
   "outputs": [],
   "source": [
    "genome_md_acc_reformat = genome_md.reset_index().set_index('acc_reformat')"
   ]
  },
  {
   "cell_type": "code",
   "execution_count": 399,
   "id": "99756dbf-98a4-428e-b5e8-cd024e7d16b7",
   "metadata": {},
   "outputs": [
    {
     "data": {
      "text/plain": [
       "array(['ambiguous_bases', 'checkm_completeness', 'checkm_contamination',\n",
       "       'checkm_marker_count', 'checkm_marker_lineage',\n",
       "       'checkm_marker_set_count', 'checkm_strain_heterogeneity',\n",
       "       'coding_bases', 'coding_density', 'contig_count', 'gc_count',\n",
       "       'gc_percentage', 'genome_size', 'gtdb_genome_representative',\n",
       "       'gtdb_representative', 'gtdb_taxonomy', 'gtdb_type_designation',\n",
       "       'gtdb_type_designation_sources', 'gtdb_type_species_of_genus',\n",
       "       'l50_contigs', 'l50_scaffolds', 'longest_contig',\n",
       "       'longest_scaffold', 'lsu_23s_contig_len', 'lsu_23s_count',\n",
       "       'lsu_23s_length', 'lsu_23s_query_id', 'lsu_5s_contig_len',\n",
       "       'lsu_5s_count', 'lsu_5s_length', 'lsu_5s_query_id',\n",
       "       'lsu_silva_23s_blast_align_len', 'lsu_silva_23s_blast_bitscore',\n",
       "       'lsu_silva_23s_blast_evalue', 'lsu_silva_23s_blast_perc_identity',\n",
       "       'lsu_silva_23s_blast_subject_id', 'lsu_silva_23s_taxonomy',\n",
       "       'mean_contig_length', 'mean_scaffold_length', 'mimag_high_quality',\n",
       "       'mimag_low_quality', 'mimag_medium_quality', 'n50_contigs',\n",
       "       'n50_scaffolds', 'ncbi_assembly_level', 'ncbi_assembly_name',\n",
       "       'ncbi_assembly_type', 'ncbi_bioproject', 'ncbi_biosample',\n",
       "       'ncbi_contig_count', 'ncbi_contig_n50', 'ncbi_country',\n",
       "       'ncbi_date', 'ncbi_genbank_assembly_accession',\n",
       "       'ncbi_genome_category', 'ncbi_genome_representation',\n",
       "       'ncbi_isolate', 'ncbi_isolation_source', 'ncbi_lat_lon',\n",
       "       'ncbi_molecule_count', 'ncbi_ncrna_count', 'ncbi_organism_name',\n",
       "       'ncbi_protein_count', 'ncbi_refseq_category', 'ncbi_rrna_count',\n",
       "       'ncbi_scaffold_count', 'ncbi_scaffold_l50', 'ncbi_scaffold_n50',\n",
       "       'ncbi_scaffold_n75', 'ncbi_scaffold_n90', 'ncbi_seq_rel_date',\n",
       "       'ncbi_spanned_gaps', 'ncbi_species_taxid', 'ncbi_ssu_count',\n",
       "       'ncbi_strain_identifiers', 'ncbi_submitter', 'ncbi_taxid',\n",
       "       'ncbi_taxonomy', 'ncbi_taxonomy_unfiltered',\n",
       "       'ncbi_total_gap_length', 'ncbi_total_length',\n",
       "       'ncbi_translation_table', 'ncbi_trna_count',\n",
       "       'ncbi_type_material_designation', 'ncbi_ungapped_length',\n",
       "       'ncbi_unspanned_gaps', 'ncbi_wgs_master', 'protein_count',\n",
       "       'scaffold_count', 'ssu_contig_len', 'ssu_count',\n",
       "       'ssu_gg_blast_align_len', 'ssu_gg_blast_bitscore',\n",
       "       'ssu_gg_blast_evalue', 'ssu_gg_blast_perc_identity',\n",
       "       'ssu_gg_blast_subject_id', 'ssu_gg_taxonomy', 'ssu_length',\n",
       "       'ssu_query_id', 'ssu_silva_blast_align_len',\n",
       "       'ssu_silva_blast_bitscore', 'ssu_silva_blast_evalue',\n",
       "       'ssu_silva_blast_perc_identity', 'ssu_silva_blast_subject_id',\n",
       "       'ssu_silva_taxonomy', 'total_gap_length', 'trna_aa_count',\n",
       "       'trna_count', 'trna_selenocysteine_count', 'acc_reformat'],\n",
       "      dtype=object)"
      ]
     },
     "execution_count": 399,
     "metadata": {},
     "output_type": "execute_result"
    }
   ],
   "source": [
    "genome_md.columns.values"
   ]
  },
  {
   "cell_type": "code",
   "execution_count": 403,
   "id": "f05e6fbb-5431-4fd9-b814-ca3c0f3efc41",
   "metadata": {},
   "outputs": [
    {
     "name": "stdout",
     "output_type": "stream",
     "text": [
      "SpearmanrResult(correlation=0.030570327790717958, pvalue=0.2645233167295808)\n"
     ]
    },
    {
     "data": {
      "image/png": "[encoded data removed]",
      "text/plain": [
       "<Figure size 432x288 with 1 Axes>"
      ]
     },
     "metadata": {
      "needs_background": "light"
     },
     "output_type": "display_data"
    },
    {
     "name": "stdout",
     "output_type": "stream",
     "text": [
      "SpearmanrResult(correlation=0.048685097565166924, pvalue=0.07547615329314648)\n"
     ]
    },
    {
     "data": {
      "image/png": "[encoded data removed]",
      "text/plain": [
       "<Figure size 432x288 with 1 Axes>"
      ]
     },
     "metadata": {
      "needs_background": "light"
     },
     "output_type": "display_data"
    },
    {
     "name": "stdout",
     "output_type": "stream",
     "text": [
      "SpearmanrResult(correlation=0.06346395113586907, pvalue=0.020442842068291153)\n"
     ]
    },
    {
     "data": {
      "image/png": "[encoded data removed]",
      "text/plain": [
       "<Figure size 432x288 with 1 Axes>"
      ]
     },
     "metadata": {
      "needs_background": "light"
     },
     "output_type": "display_data"
    },
    {
     "name": "stdout",
     "output_type": "stream",
     "text": [
      "SpearmanrResult(correlation=0.0969777138989624, pvalue=0.0003895655709569109)\n"
     ]
    },
    {
     "data": {
      "image/png": "[encoded data removed]",
      "text/plain": [
       "<Figure size 432x288 with 1 Axes>"
      ]
     },
     "metadata": {
      "needs_background": "light"
     },
     "output_type": "display_data"
    },
    {
     "name": "stdout",
     "output_type": "stream",
     "text": [
      "SpearmanrResult(correlation=0.030570327790717958, pvalue=0.2645233167295808)\n"
     ]
    },
    {
     "data": {
      "image/png": "[encoded data removed]",
      "text/plain": [
       "<Figure size 432x288 with 1 Axes>"
      ]
     },
     "metadata": {
      "needs_background": "light"
     },
     "output_type": "display_data"
    }
   ],
   "source": [
    "variables = ['genome_size', 'coding_density', 'gc_percentage', 'trna_count', 'genome_size']\n",
    "for v in variables:\n",
    "    x = genome_md_acc_reformat.loc[matched_genomes_noprefix, v]\n",
    "    y = genome_ph_preds\n",
    "    sns.scatterplot(x=x, y=y)\n",
    "    print(spearmanr(x.reindex(y.index), y))\n",
    "    plt.show()"
   ]
  },
  {
   "cell_type": "code",
   "execution_count": 237,
   "id": "a37492fb-8ef2-445e-bbae-53515977e94e",
   "metadata": {},
   "outputs": [
    {
     "data": {
      "text/plain": [
       "64"
      ]
     },
     "metadata": {},
     "output_type": "display_data"
    }
   ],
   "source": [
    "precomputed = 0\n",
    "annot_df_list = []\n",
    "rf_ph_data = pd.Series()\n",
    "for g in glob.glob('/data/mhoffert/geosmin/analysis/anvio_workflow/cromwell_streptomyces/*interpro.tsv'):\n",
    "    genome = g.split('/')[-1].split('_interpro')[0]\n",
    "    if genome in matched_genomes_noprefix:\n",
    "        rf_ph_data.loc[genome] = pH_optima.loc[gb_genome_reformat.loc[genome]].mean()\n",
    "        precomputed += 1\n",
    "        # read annotations\n",
    "        annots = pd.read_csv(g, sep='\\t', header=None)\n",
    "        # get the set of Pfam domains called in this genome\n",
    "        genome_annots = annots[annots[3].eq('Pfam')][4].unique()\n",
    "        # make an unstack-able dataframe\n",
    "        tuples = [(genome, g) for g in genome_annots]\n",
    "        annot_df = pd.DataFrame(index=pd.MultiIndex.from_tuples(tuples)).assign(present=True)\n",
    "        # add to list\n",
    "        annot_df_list.append(annot_df)\n",
    "        display(precomputed)\n",
    "        clear_output(wait=True)"
   ]
  },
  {
   "cell_type": "code",
   "execution_count": 238,
   "id": "00674188-102e-4057-bd09-0938ba67f139",
   "metadata": {},
   "outputs": [],
   "source": [
    "# combine the df for each genome: unstack\n",
    "rf_input_data = pd.concat(annot_df_list).unstack()"
   ]
  },
  {
   "cell_type": "code",
   "execution_count": 239,
   "id": "53c05e49-43cc-4d75-a7d5-9692aa77162a",
   "metadata": {},
   "outputs": [],
   "source": [
    "rf_input_data = rf_input_data.loc[:, rf_input_data.sum() != rf_input_data.shape[0]].replace({True:1,np.nan:0})"
   ]
  },
  {
   "cell_type": "code",
   "execution_count": 240,
   "id": "713f6a7e-c120-4c4a-bbb5-7fb8f80e7e27",
   "metadata": {},
   "outputs": [
    {
     "data": {
      "text/html": [
       "<div>\n",
       "<style scoped>\n",
       "    .dataframe tbody tr th:only-of-type {\n",
       "        vertical-align: middle;\n",
       "    }\n",
       "\n",
       "    .dataframe tbody tr th {\n",
       "        vertical-align: top;\n",
       "    }\n",
       "\n",
       "    .dataframe thead tr th {\n",
       "        text-align: left;\n",
       "    }\n",
       "</style>\n",
       "<table border=\"1\" class=\"dataframe\">\n",
       "  <thead>\n",
       "    <tr>\n",
       "      <th></th>\n",
       "      <th colspan=\"21\" halign=\"left\">present</th>\n",
       "    </tr>\n",
       "    <tr>\n",
       "      <th></th>\n",
       "      <th>PF00011</th>\n",
       "      <th>PF00016</th>\n",
       "      <th>PF00022</th>\n",
       "      <th>PF00023</th>\n",
       "      <th>PF00026</th>\n",
       "      <th>PF00034</th>\n",
       "      <th>PF00036</th>\n",
       "      <th>PF00041</th>\n",
       "      <th>PF00042</th>\n",
       "      <th>PF00045</th>\n",
       "      <th>...</th>\n",
       "      <th>PF20118</th>\n",
       "      <th>PF20120</th>\n",
       "      <th>PF20128</th>\n",
       "      <th>PF20129</th>\n",
       "      <th>PF20131</th>\n",
       "      <th>PF20137</th>\n",
       "      <th>PF20138</th>\n",
       "      <th>PF20139</th>\n",
       "      <th>PF20148</th>\n",
       "      <th>PF20159</th>\n",
       "    </tr>\n",
       "  </thead>\n",
       "  <tbody>\n",
       "    <tr>\n",
       "      <th>GCA_003719395.1</th>\n",
       "      <td>1</td>\n",
       "      <td>0</td>\n",
       "      <td>0</td>\n",
       "      <td>0</td>\n",
       "      <td>0</td>\n",
       "      <td>0</td>\n",
       "      <td>1</td>\n",
       "      <td>1</td>\n",
       "      <td>1</td>\n",
       "      <td>0</td>\n",
       "      <td>...</td>\n",
       "      <td>0</td>\n",
       "      <td>0</td>\n",
       "      <td>0</td>\n",
       "      <td>0</td>\n",
       "      <td>1</td>\n",
       "      <td>0</td>\n",
       "      <td>0</td>\n",
       "      <td>0</td>\n",
       "      <td>0</td>\n",
       "      <td>1</td>\n",
       "    </tr>\n",
       "    <tr>\n",
       "      <th>GCA_014645815.1</th>\n",
       "      <td>0</td>\n",
       "      <td>0</td>\n",
       "      <td>0</td>\n",
       "      <td>0</td>\n",
       "      <td>0</td>\n",
       "      <td>1</td>\n",
       "      <td>0</td>\n",
       "      <td>1</td>\n",
       "      <td>1</td>\n",
       "      <td>0</td>\n",
       "      <td>...</td>\n",
       "      <td>0</td>\n",
       "      <td>0</td>\n",
       "      <td>1</td>\n",
       "      <td>0</td>\n",
       "      <td>0</td>\n",
       "      <td>0</td>\n",
       "      <td>0</td>\n",
       "      <td>1</td>\n",
       "      <td>1</td>\n",
       "      <td>0</td>\n",
       "    </tr>\n",
       "    <tr>\n",
       "      <th>GCA_014645895.1</th>\n",
       "      <td>1</td>\n",
       "      <td>0</td>\n",
       "      <td>0</td>\n",
       "      <td>0</td>\n",
       "      <td>0</td>\n",
       "      <td>1</td>\n",
       "      <td>0</td>\n",
       "      <td>1</td>\n",
       "      <td>1</td>\n",
       "      <td>0</td>\n",
       "      <td>...</td>\n",
       "      <td>0</td>\n",
       "      <td>0</td>\n",
       "      <td>0</td>\n",
       "      <td>0</td>\n",
       "      <td>0</td>\n",
       "      <td>0</td>\n",
       "      <td>0</td>\n",
       "      <td>0</td>\n",
       "      <td>1</td>\n",
       "      <td>0</td>\n",
       "    </tr>\n",
       "    <tr>\n",
       "      <th>GCA_014647675.1</th>\n",
       "      <td>1</td>\n",
       "      <td>0</td>\n",
       "      <td>0</td>\n",
       "      <td>0</td>\n",
       "      <td>0</td>\n",
       "      <td>1</td>\n",
       "      <td>0</td>\n",
       "      <td>0</td>\n",
       "      <td>1</td>\n",
       "      <td>0</td>\n",
       "      <td>...</td>\n",
       "      <td>0</td>\n",
       "      <td>1</td>\n",
       "      <td>0</td>\n",
       "      <td>0</td>\n",
       "      <td>0</td>\n",
       "      <td>0</td>\n",
       "      <td>0</td>\n",
       "      <td>1</td>\n",
       "      <td>1</td>\n",
       "      <td>0</td>\n",
       "    </tr>\n",
       "    <tr>\n",
       "      <th>GCA_014649035.1</th>\n",
       "      <td>1</td>\n",
       "      <td>0</td>\n",
       "      <td>1</td>\n",
       "      <td>1</td>\n",
       "      <td>0</td>\n",
       "      <td>1</td>\n",
       "      <td>0</td>\n",
       "      <td>1</td>\n",
       "      <td>1</td>\n",
       "      <td>0</td>\n",
       "      <td>...</td>\n",
       "      <td>0</td>\n",
       "      <td>0</td>\n",
       "      <td>1</td>\n",
       "      <td>0</td>\n",
       "      <td>0</td>\n",
       "      <td>0</td>\n",
       "      <td>0</td>\n",
       "      <td>0</td>\n",
       "      <td>1</td>\n",
       "      <td>0</td>\n",
       "    </tr>\n",
       "  </tbody>\n",
       "</table>\n",
       "<p>5 rows × 3061 columns</p>\n",
       "</div>"
      ],
      "text/plain": [
       "                present                                                  \\\n",
       "                PF00011 PF00016 PF00022 PF00023 PF00026 PF00034 PF00036   \n",
       "GCA_003719395.1       1       0       0       0       0       0       1   \n",
       "GCA_014645815.1       0       0       0       0       0       1       0   \n",
       "GCA_014645895.1       1       0       0       0       0       1       0   \n",
       "GCA_014647675.1       1       0       0       0       0       1       0   \n",
       "GCA_014649035.1       1       0       1       1       0       1       0   \n",
       "\n",
       "                                         ...                                  \\\n",
       "                PF00041 PF00042 PF00045  ... PF20118 PF20120 PF20128 PF20129   \n",
       "GCA_003719395.1       1       1       0  ...       0       0       0       0   \n",
       "GCA_014645815.1       1       1       0  ...       0       0       1       0   \n",
       "GCA_014645895.1       1       1       0  ...       0       0       0       0   \n",
       "GCA_014647675.1       0       1       0  ...       0       1       0       0   \n",
       "GCA_014649035.1       1       1       0  ...       0       0       1       0   \n",
       "\n",
       "                                                                 \n",
       "                PF20131 PF20137 PF20138 PF20139 PF20148 PF20159  \n",
       "GCA_003719395.1       1       0       0       0       0       1  \n",
       "GCA_014645815.1       0       0       0       1       1       0  \n",
       "GCA_014645895.1       0       0       0       0       1       0  \n",
       "GCA_014647675.1       0       0       0       1       1       0  \n",
       "GCA_014649035.1       0       0       0       0       1       0  \n",
       "\n",
       "[5 rows x 3061 columns]"
      ]
     },
     "execution_count": 240,
     "metadata": {},
     "output_type": "execute_result"
    }
   ],
   "source": [
    "rf_input_data.head()"
   ]
  },
  {
   "cell_type": "code",
   "execution_count": 125,
   "id": "ba001be2-d054-4365-8214-aa7a83874840",
   "metadata": {},
   "outputs": [
    {
     "data": {
      "text/plain": [
       "-0.060377219758215306"
      ]
     },
     "execution_count": 125,
     "metadata": {},
     "output_type": "execute_result"
    }
   ],
   "source": [
    "regr.oob_score_"
   ]
  },
  {
   "cell_type": "code",
   "execution_count": 126,
   "id": "291148fb-75d6-4538-a0e2-8ae4a768e3b7",
   "metadata": {},
   "outputs": [
    {
     "data": {
      "text/plain": [
       "3029"
      ]
     },
     "execution_count": 126,
     "metadata": {},
     "output_type": "execute_result"
    }
   ],
   "source": [
    "len(regr.feature_importances_)"
   ]
  },
  {
   "cell_type": "code",
   "execution_count": null,
   "id": "b7edefa4-fccc-4c68-b37f-0d9bf99d5831",
   "metadata": {},
   "outputs": [],
   "source": [
    "# construct the "
   ]
  },
  {
   "cell_type": "code",
   "execution_count": 13,
   "id": "47db4a39-4e5f-4385-bcc3-f29da244b0d3",
   "metadata": {},
   "outputs": [],
   "source": [
    "# Unused placeholder code\n",
    "# clusters = pd.read_csv('/home/michaelhoffert/phylogenetic/cluster_genome_norfs.tsv.gz', sep='\\t')\n",
    "# subset_clusters = clusters[clusters.domain.eq('B') & clusters.genome.isin(to_gtdb[1].unique())]\n",
    "# clusters_wide = subset_clusters.set_index(['cl_name', 'genome'])['n'].unstack().fillna(0)\n",
    "# clusters_wide.shape\n",
    "# clusters_wide.head()"
   ]
  },
  {
   "cell_type": "markdown",
   "id": "f02d1517-7504-4ce7-87c1-828bdb4626fd",
   "metadata": {},
   "source": [
    "# To do\n",
    "* Refine the optimum pH assignment method\n",
    "* Annotate all GTDB genomes with Pfam (which would be helpful for the geosmin project)\n",
    "* make the ML input data for all GTDB genomes\n",
    "* test an ML model  \n",
    "Noah wants to do a random forest because it has feature importance but I think a deep neural network will be better because I have no clue what features to expect to be information and I'd rather have better predictive performance at this point."
   ]
  },
  {
   "cell_type": "code",
   "execution_count": 455,
   "id": "48cecfa7-fed3-453e-b85a-68c7028b18b1",
   "metadata": {},
   "outputs": [
    {
     "ename": "ModuleNotFoundError",
     "evalue": "No module named 'keras'",
     "output_type": "error",
     "traceback": [
      "\u001b[0;31m---------------------------------------------------------------------------\u001b[0m",
      "\u001b[0;31mModuleNotFoundError\u001b[0m                       Traceback (most recent call last)",
      "\u001b[0;32m<ipython-input-455-d1ba6b8a5f02>\u001b[0m in \u001b[0;36m<module>\u001b[0;34m\u001b[0m\n\u001b[1;32m      1\u001b[0m \u001b[0;31m# testing a ML model, method\u001b[0m\u001b[0;34m\u001b[0m\u001b[0;34m\u001b[0m\u001b[0;34m\u001b[0m\u001b[0m\n\u001b[1;32m      2\u001b[0m \u001b[0;32mfrom\u001b[0m \u001b[0mnumpy\u001b[0m \u001b[0;32mimport\u001b[0m \u001b[0mloadtxt\u001b[0m\u001b[0;34m\u001b[0m\u001b[0;34m\u001b[0m\u001b[0m\n\u001b[0;32m----> 3\u001b[0;31m \u001b[0;32mfrom\u001b[0m \u001b[0mkeras\u001b[0m\u001b[0;34m.\u001b[0m\u001b[0mmodels\u001b[0m \u001b[0;32mimport\u001b[0m \u001b[0mSequential\u001b[0m\u001b[0;34m\u001b[0m\u001b[0;34m\u001b[0m\u001b[0m\n\u001b[0m\u001b[1;32m      4\u001b[0m \u001b[0;32mfrom\u001b[0m \u001b[0mkeras\u001b[0m\u001b[0;34m.\u001b[0m\u001b[0mlayers\u001b[0m \u001b[0;32mimport\u001b[0m \u001b[0mDense\u001b[0m\u001b[0;34m\u001b[0m\u001b[0;34m\u001b[0m\u001b[0m\n",
      "\u001b[0;31mModuleNotFoundError\u001b[0m: No module named 'keras'"
     ]
    }
   ],
   "source": [
    "# testing a ML model, method\n",
    "from numpy import loadtxt\n",
    "from keras.models import Sequential\n",
    "from keras.layers import Dense"
   ]
  },
  {
   "cell_type": "code",
   "execution_count": null,
   "id": "3f45eaaf-795f-4e5f-a37d-e02fae5d2aa7",
   "metadata": {},
   "outputs": [],
   "source": [
    "# first neural network with keras make predictions\n",
    "\n",
    "# load the dataset\n",
    "dataset = loadtxt('pima-indians-diabetes.csv', delimiter=',')\n",
    "# split into input (X) and output (y) variables\n",
    "X = dataset[:,0:8]\n",
    "y = dataset[:,8]\n",
    "# define the keras model\n",
    "model = Sequential()\n",
    "model.add(Dense(12, input_dim=8, activation='relu'))\n",
    "model.add(Dense(8, activation='relu'))\n",
    "model.add(Dense(1, activation='sigmoid'))\n",
    "# compile the keras model\n",
    "model.compile(loss='binary_crossentropy', optimizer='adam', metrics=['accuracy'])\n",
    "# fit the keras model on the dataset\n",
    "model.fit(X, y, epochs=150, batch_size=10, verbose=0)\n",
    "# make class predictions with the model\n",
    "predictions = (model.predict(X) > 0.5).astype(int)\n",
    "# summarize the first 5 cases\n",
    "for i in range(5):\n",
    "\tprint('%s => %d (expected %d)' % (X[i].tolist(), predictions[i], y[i]))"
   ]
  }
 ],
 "metadata": {
  "kernelspec": {
   "display_name": "Python 3",
   "language": "python",
   "name": "python3"
  },
  "language_info": {
   "codemirror_mode": {
    "name": "ipython",
    "version": 3
   },
   "file_extension": ".py",
   "mimetype": "text/x-python",
   "name": "python",
   "nbconvert_exporter": "python",
   "pygments_lexer": "ipython3",
   "version": "3.6.10"
  }
 },
 "nbformat": 4,
 "nbformat_minor": 5
}
