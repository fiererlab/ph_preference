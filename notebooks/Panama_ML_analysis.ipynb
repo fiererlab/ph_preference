{
 "cells": [
  {
   "cell_type": "code",
   "execution_count": 1,
   "id": "a9a912ee-bcc7-44ae-9b06-f4aa00e3cbd6",
   "metadata": {},
   "outputs": [],
   "source": [
    "import pandas as pd\n",
    "import seaborn as sns\n",
    "import matplotlib.pyplot as plt\n",
    "import numpy as np\n",
    "from scipy.interpolate import UnivariateSpline\n",
    "from IPython.display import display, clear_output"
   ]
  },
  {
   "cell_type": "code",
   "execution_count": 2,
   "id": "016ac43f-3686-4f96-ae4f-c6897ad8c062",
   "metadata": {},
   "outputs": [],
   "source": [
    "# read out table\n",
    "otus = pd.read_csv('/home/michaelhoffert/lab-data/datasets/Oliverio_2020a/processed/03_tabletax/seqtab_final.txt', sep='\\t', index_col=0)\n",
    "# grab taxonomy in case we need it\n",
    "taxonomy = otus['taxonomy']\n",
    "otus = otus.drop('taxonomy', 1)"
   ]
  },
  {
   "cell_type": "code",
   "execution_count": 3,
   "id": "31e0a6e6-8070-4489-968a-7bd0cb9eb304",
   "metadata": {},
   "outputs": [],
   "source": [
    "# normalize to column sum for relative abundance\n",
    "otus_norm = otus.divide(otus.sum())"
   ]
  },
  {
   "cell_type": "code",
   "execution_count": 4,
   "id": "14a147ab-caea-45f6-ba9a-e98fc8c780b4",
   "metadata": {},
   "outputs": [],
   "source": [
    "# read metadata\n",
    "md = pd.read_csv('/home/michaelhoffert/lab-data/datasets/Oliverio_2020a/metadata/Panama_metadata_full_v1.txt', encoding='latin1', sep='\\t')"
   ]
  },
  {
   "cell_type": "code",
   "execution_count": 5,
   "id": "98c56c23-7c0a-4241-8035-e6c23c1e71c7",
   "metadata": {},
   "outputs": [
    {
     "data": {
      "text/html": [
       "<div>\n",
       "<style scoped>\n",
       "    .dataframe tbody tr th:only-of-type {\n",
       "        vertical-align: middle;\n",
       "    }\n",
       "\n",
       "    .dataframe tbody tr th {\n",
       "        vertical-align: top;\n",
       "    }\n",
       "\n",
       "    .dataframe thead th {\n",
       "        text-align: right;\n",
       "    }\n",
       "</style>\n",
       "<table border=\"1\" class=\"dataframe\">\n",
       "  <thead>\n",
       "    <tr style=\"text-align: right;\">\n",
       "      <th></th>\n",
       "      <th>Alb_0202</th>\n",
       "      <th>Alb_0204</th>\n",
       "      <th>Alb_0303</th>\n",
       "      <th>Alb_0402</th>\n",
       "      <th>Alb_0404</th>\n",
       "      <th>B1_0202</th>\n",
       "      <th>B1_0204</th>\n",
       "      <th>B1_0303</th>\n",
       "      <th>B1_0402</th>\n",
       "      <th>B1_0404</th>\n",
       "      <th>...</th>\n",
       "      <th>She4_0404</th>\n",
       "      <th>SheG_0202</th>\n",
       "      <th>SheG_0204</th>\n",
       "      <th>SheG_0303</th>\n",
       "      <th>SheG_0402</th>\n",
       "      <th>Sob_0202</th>\n",
       "      <th>Sob_0204</th>\n",
       "      <th>Sob_0303</th>\n",
       "      <th>Sob_0402</th>\n",
       "      <th>Sob_0404</th>\n",
       "    </tr>\n",
       "    <tr>\n",
       "      <th>#ASV ID</th>\n",
       "      <th></th>\n",
       "      <th></th>\n",
       "      <th></th>\n",
       "      <th></th>\n",
       "      <th></th>\n",
       "      <th></th>\n",
       "      <th></th>\n",
       "      <th></th>\n",
       "      <th></th>\n",
       "      <th></th>\n",
       "      <th></th>\n",
       "      <th></th>\n",
       "      <th></th>\n",
       "      <th></th>\n",
       "      <th></th>\n",
       "      <th></th>\n",
       "      <th></th>\n",
       "      <th></th>\n",
       "      <th></th>\n",
       "      <th></th>\n",
       "      <th></th>\n",
       "    </tr>\n",
       "  </thead>\n",
       "  <tbody>\n",
       "    <tr>\n",
       "      <td>ASV_1</td>\n",
       "      <td>0.0</td>\n",
       "      <td>0.0</td>\n",
       "      <td>0.0</td>\n",
       "      <td>0.0</td>\n",
       "      <td>0.0</td>\n",
       "      <td>0.000000</td>\n",
       "      <td>0.00000</td>\n",
       "      <td>0.015689</td>\n",
       "      <td>0.001211</td>\n",
       "      <td>0.000000</td>\n",
       "      <td>...</td>\n",
       "      <td>0.048939</td>\n",
       "      <td>0.056733</td>\n",
       "      <td>0.000000</td>\n",
       "      <td>0.130409</td>\n",
       "      <td>0.000000</td>\n",
       "      <td>0.000000</td>\n",
       "      <td>0.0</td>\n",
       "      <td>0.0</td>\n",
       "      <td>0.0</td>\n",
       "      <td>0.000000</td>\n",
       "    </tr>\n",
       "    <tr>\n",
       "      <td>ASV_10</td>\n",
       "      <td>0.0</td>\n",
       "      <td>0.0</td>\n",
       "      <td>0.0</td>\n",
       "      <td>0.0</td>\n",
       "      <td>0.0</td>\n",
       "      <td>0.027609</td>\n",
       "      <td>0.00000</td>\n",
       "      <td>0.003954</td>\n",
       "      <td>0.014873</td>\n",
       "      <td>0.000000</td>\n",
       "      <td>...</td>\n",
       "      <td>0.004197</td>\n",
       "      <td>0.022213</td>\n",
       "      <td>0.010171</td>\n",
       "      <td>0.010712</td>\n",
       "      <td>0.010122</td>\n",
       "      <td>0.003016</td>\n",
       "      <td>0.0</td>\n",
       "      <td>0.0</td>\n",
       "      <td>0.0</td>\n",
       "      <td>0.003529</td>\n",
       "    </tr>\n",
       "    <tr>\n",
       "      <td>ASV_100</td>\n",
       "      <td>0.0</td>\n",
       "      <td>0.0</td>\n",
       "      <td>0.0</td>\n",
       "      <td>0.0</td>\n",
       "      <td>0.0</td>\n",
       "      <td>0.000000</td>\n",
       "      <td>0.00308</td>\n",
       "      <td>0.001623</td>\n",
       "      <td>0.000000</td>\n",
       "      <td>0.004049</td>\n",
       "      <td>...</td>\n",
       "      <td>0.000000</td>\n",
       "      <td>0.000000</td>\n",
       "      <td>0.000000</td>\n",
       "      <td>0.000000</td>\n",
       "      <td>0.000000</td>\n",
       "      <td>0.000000</td>\n",
       "      <td>0.0</td>\n",
       "      <td>0.0</td>\n",
       "      <td>0.0</td>\n",
       "      <td>0.000000</td>\n",
       "    </tr>\n",
       "    <tr>\n",
       "      <td>ASV_1000</td>\n",
       "      <td>0.0</td>\n",
       "      <td>0.0</td>\n",
       "      <td>0.0</td>\n",
       "      <td>0.0</td>\n",
       "      <td>0.0</td>\n",
       "      <td>0.000000</td>\n",
       "      <td>0.00000</td>\n",
       "      <td>0.000000</td>\n",
       "      <td>0.000000</td>\n",
       "      <td>0.000000</td>\n",
       "      <td>...</td>\n",
       "      <td>0.000000</td>\n",
       "      <td>0.000000</td>\n",
       "      <td>0.000000</td>\n",
       "      <td>0.000000</td>\n",
       "      <td>0.000000</td>\n",
       "      <td>0.000000</td>\n",
       "      <td>0.0</td>\n",
       "      <td>0.0</td>\n",
       "      <td>0.0</td>\n",
       "      <td>0.000000</td>\n",
       "    </tr>\n",
       "    <tr>\n",
       "      <td>ASV_10000</td>\n",
       "      <td>0.0</td>\n",
       "      <td>0.0</td>\n",
       "      <td>0.0</td>\n",
       "      <td>0.0</td>\n",
       "      <td>0.0</td>\n",
       "      <td>0.000000</td>\n",
       "      <td>0.00000</td>\n",
       "      <td>0.000000</td>\n",
       "      <td>0.000000</td>\n",
       "      <td>0.000000</td>\n",
       "      <td>...</td>\n",
       "      <td>0.000000</td>\n",
       "      <td>0.000000</td>\n",
       "      <td>0.000000</td>\n",
       "      <td>0.000000</td>\n",
       "      <td>0.000000</td>\n",
       "      <td>0.000000</td>\n",
       "      <td>0.0</td>\n",
       "      <td>0.0</td>\n",
       "      <td>0.0</td>\n",
       "      <td>0.000000</td>\n",
       "    </tr>\n",
       "  </tbody>\n",
       "</table>\n",
       "<p>5 rows × 308 columns</p>\n",
       "</div>"
      ],
      "text/plain": [
       "           Alb_0202  Alb_0204  Alb_0303  Alb_0402  Alb_0404   B1_0202  \\\n",
       "#ASV ID                                                                 \n",
       "ASV_1           0.0       0.0       0.0       0.0       0.0  0.000000   \n",
       "ASV_10          0.0       0.0       0.0       0.0       0.0  0.027609   \n",
       "ASV_100         0.0       0.0       0.0       0.0       0.0  0.000000   \n",
       "ASV_1000        0.0       0.0       0.0       0.0       0.0  0.000000   \n",
       "ASV_10000       0.0       0.0       0.0       0.0       0.0  0.000000   \n",
       "\n",
       "           B1_0204   B1_0303   B1_0402   B1_0404  ...  She4_0404  SheG_0202  \\\n",
       "#ASV ID                                           ...                         \n",
       "ASV_1      0.00000  0.015689  0.001211  0.000000  ...   0.048939   0.056733   \n",
       "ASV_10     0.00000  0.003954  0.014873  0.000000  ...   0.004197   0.022213   \n",
       "ASV_100    0.00308  0.001623  0.000000  0.004049  ...   0.000000   0.000000   \n",
       "ASV_1000   0.00000  0.000000  0.000000  0.000000  ...   0.000000   0.000000   \n",
       "ASV_10000  0.00000  0.000000  0.000000  0.000000  ...   0.000000   0.000000   \n",
       "\n",
       "           SheG_0204  SheG_0303  SheG_0402  Sob_0202  Sob_0204  Sob_0303  \\\n",
       "#ASV ID                                                                    \n",
       "ASV_1       0.000000   0.130409   0.000000  0.000000       0.0       0.0   \n",
       "ASV_10      0.010171   0.010712   0.010122  0.003016       0.0       0.0   \n",
       "ASV_100     0.000000   0.000000   0.000000  0.000000       0.0       0.0   \n",
       "ASV_1000    0.000000   0.000000   0.000000  0.000000       0.0       0.0   \n",
       "ASV_10000   0.000000   0.000000   0.000000  0.000000       0.0       0.0   \n",
       "\n",
       "           Sob_0402  Sob_0404  \n",
       "#ASV ID                        \n",
       "ASV_1           0.0  0.000000  \n",
       "ASV_10          0.0  0.003529  \n",
       "ASV_100         0.0  0.000000  \n",
       "ASV_1000        0.0  0.000000  \n",
       "ASV_10000       0.0  0.000000  \n",
       "\n",
       "[5 rows x 308 columns]"
      ]
     },
     "execution_count": 5,
     "metadata": {},
     "output_type": "execute_result"
    }
   ],
   "source": [
    "otus_norm.head()"
   ]
  },
  {
   "cell_type": "code",
   "execution_count": 6,
   "id": "82c38ab0-1abb-452f-91eb-26b0a6d32504",
   "metadata": {},
   "outputs": [
    {
     "data": {
      "text/plain": [
       "18379"
      ]
     },
     "metadata": {},
     "output_type": "display_data"
    }
   ],
   "source": [
    "# define a series to store optimum for each ASV\n",
    "pH_optima = pd.Series()\n",
    "# sort by abundance because it's more convenient\n",
    "abun_order = otus_norm.mean(1).sort_values(ascending=False).index\n",
    "i = 0\n",
    "# iterate over each row: get vector of samples abundances for ASV\n",
    "for index, otu_data in otus_norm.reindex(abun_order).iterrows():\n",
    "    display(i)\n",
    "    clear_output(wait=True)\n",
    "    # merge with metadata\n",
    "    merged = pd.merge(otu_data, md.set_index('#sampleID'), left_index=True, right_index=True)\n",
    "    # sort by pH\n",
    "    merged_sorted = merged.sort_values('pH.water')\n",
    "    # fit a spline\n",
    "    spline = UnivariateSpline(merged_sorted['pH.water'], merged_sorted[index])\n",
    "    # grab spline predictions\n",
    "    splinevals = spline(merged_sorted['pH.water'][:-1], )\n",
    "    xvals = merged_sorted['pH.water'][:-1]\n",
    "    # get the max value\n",
    "    optimum=xvals[np.argmax(splinevals)]\n",
    "    # save it\n",
    "    pH_optima.loc[index] = optimum\n",
    "    \n",
    "    # # optional plotting code\n",
    "    # sns.scatterplot(data=merged, y=index, x='pH.water')\n",
    "    # plt.plot(xvals, splinevals, color='red')\n",
    "    # plt.vlines([optimum], np.min(merged[index]), np.max(merged[index]))\n",
    "    # plt.show()\n",
    "    \n",
    "    i += 1"
   ]
  },
  {
   "cell_type": "code",
   "execution_count": 9,
   "id": "1f5db6ec-2929-480c-8615-75f63c23e200",
   "metadata": {},
   "outputs": [
    {
     "data": {
      "text/plain": [
       "<AxesSubplot:ylabel='Count'>"
      ]
     },
     "execution_count": 9,
     "metadata": {},
     "output_type": "execute_result"
    },
    {
     "data": {
      "image/png": "[encoded data removed]",
      "text/plain": [
       "<Figure size 432x288 with 1 Axes>"
      ]
     },
     "metadata": {
      "needs_background": "light"
     },
     "output_type": "display_data"
    }
   ],
   "source": [
    "# histogram of the pH optima\n",
    "sns.histplot(pH_optima, bins=100)"
   ]
  },
  {
   "cell_type": "markdown",
   "id": "f6be36e8-2cd1-49d2-a335-ee244c81be52",
   "metadata": {},
   "source": [
    "#### Notes\n",
    "Lots of values at 7, not a fan of that"
   ]
  },
  {
   "cell_type": "code",
   "execution_count": 11,
   "id": "ffa7faca-7ed1-4828-985c-406349aedd71",
   "metadata": {},
   "outputs": [
    {
     "data": {
      "text/plain": [
       "<AxesSubplot:xlabel='pH.water', ylabel='Count'>"
      ]
     },
     "execution_count": 11,
     "metadata": {},
     "output_type": "execute_result"
    },
    {
     "data": {
      "image/png": "[encoded data removed]",
      "text/plain": [
       "<Figure size 432x288 with 1 Axes>"
      ]
     },
     "metadata": {
      "needs_background": "light"
     },
     "output_type": "display_data"
    }
   ],
   "source": [
    "# plot the pH values from the metadata\n",
    "sns.histplot(md['pH.water'])"
   ]
  },
  {
   "cell_type": "code",
   "execution_count": 7,
   "id": "44e04c1d-a351-473c-a695-56561d6e6580",
   "metadata": {},
   "outputs": [],
   "source": [
    "# get the results of matching the ASVs to GTDB\n",
    "to_gtdb = pd.read_csv('/home/michaelhoffert/machine-learning/ph/gtdb_map/Oliverio_2020a_ASVs_to_GTDBr89.tsv', sep='\\t', header=None)"
   ]
  },
  {
   "cell_type": "code",
   "execution_count": 10,
   "id": "7b87c51a-28a9-4633-9d8b-288c061293fd",
   "metadata": {},
   "outputs": [
    {
     "data": {
      "text/plain": [
       "7750"
      ]
     },
     "execution_count": 10,
     "metadata": {},
     "output_type": "execute_result"
    }
   ],
   "source": [
    "# how many ASVs matched?\n",
    "len(to_gtdb[0].unique())"
   ]
  },
  {
   "cell_type": "code",
   "execution_count": 13,
   "id": "47db4a39-4e5f-4385-bcc3-f29da244b0d3",
   "metadata": {},
   "outputs": [],
   "source": [
    "# Unused placeholder code\n",
    "# clusters = pd.read_csv('/home/michaelhoffert/phylogenetic/cluster_genome_norfs.tsv.gz', sep='\\t')\n",
    "# subset_clusters = clusters[clusters.domain.eq('B') & clusters.genome.isin(to_gtdb[1].unique())]\n",
    "# clusters_wide = subset_clusters.set_index(['cl_name', 'genome'])['n'].unstack().fillna(0)\n",
    "# clusters_wide.shape\n",
    "# clusters_wide.head()"
   ]
  },
  {
   "cell_type": "markdown",
   "id": "f02d1517-7504-4ce7-87c1-828bdb4626fd",
   "metadata": {},
   "source": [
    "# To do\n",
    "* Refine the optimum pH assignment method\n",
    "* Annotate all GTDB genomes with Pfam (which would be helpful for the geosmin project)\n",
    "* make the ML input data for all GTDB genomes\n",
    "* test an ML model  \n",
    "Noah wants to do a random forest because it has feature importance but I think a deep neural network will be better because I have no clue what features to expect to be information and I'd rather have better predictive performance at this point."
   ]
  },
  {
   "cell_type": "code",
   "execution_count": 18,
   "id": "48cecfa7-fed3-453e-b85a-68c7028b18b1",
   "metadata": {},
   "outputs": [],
   "source": [
    "# testing a ML model, method\n",
    "from numpy import loadtxt\n",
    "from keras.models import Sequential\n",
    "from keras.layers import Dense"
   ]
  },
  {
   "cell_type": "code",
   "execution_count": null,
   "id": "3f45eaaf-795f-4e5f-a37d-e02fae5d2aa7",
   "metadata": {},
   "outputs": [],
   "source": [
    "# first neural network with keras make predictions\n",
    "\n",
    "# load the dataset\n",
    "dataset = loadtxt('pima-indians-diabetes.csv', delimiter=',')\n",
    "# split into input (X) and output (y) variables\n",
    "X = dataset[:,0:8]\n",
    "y = dataset[:,8]\n",
    "# define the keras model\n",
    "model = Sequential()\n",
    "model.add(Dense(12, input_dim=8, activation='relu'))\n",
    "model.add(Dense(8, activation='relu'))\n",
    "model.add(Dense(1, activation='sigmoid'))\n",
    "# compile the keras model\n",
    "model.compile(loss='binary_crossentropy', optimizer='adam', metrics=['accuracy'])\n",
    "# fit the keras model on the dataset\n",
    "model.fit(X, y, epochs=150, batch_size=10, verbose=0)\n",
    "# make class predictions with the model\n",
    "predictions = (model.predict(X) > 0.5).astype(int)\n",
    "# summarize the first 5 cases\n",
    "for i in range(5):\n",
    "\tprint('%s => %d (expected %d)' % (X[i].tolist(), predictions[i], y[i]))"
   ]
  }
 ],
 "metadata": {
  "kernelspec": {
   "display_name": "Python 3",
   "language": "python",
   "name": "python3"
  },
  "language_info": {
   "codemirror_mode": {
    "name": "ipython",
    "version": 3
   },
   "file_extension": ".py",
   "mimetype": "text/x-python",
   "name": "python",
   "nbconvert_exporter": "python",
   "pygments_lexer": "ipython3",
   "version": "3.6.10"
  }
 },
 "nbformat": 4,
 "nbformat_minor": 5
}
